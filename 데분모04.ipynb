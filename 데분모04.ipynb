{
 "cells": [
  {
   "cell_type": "markdown",
   "id": "e4bf1457",
   "metadata": {},
   "source": [
    "# 판다스 연산\n",
    "## 시리즈 연산"
   ]
  },
  {
   "cell_type": "markdown",
   "id": "4343c340",
   "metadata": {},
   "source": [
    "- 시리즈 vs 숫자 : 시리즈의 모든 원소에 개별적 접근\n",
    "- series + 1\n",
    "- series1 + series2\n",
    "- series3 = series1.add(series2, fill_vlaue = )\n",
    "- 크기가 다른 경우 없는 것은 NaN, 또는 fill_value를 활용한다.\n",
    "- 크기가 같으나 인덱스 이름이 다른 경우, 어느 한쪽 다른면 NaN을 반환\n",
    "- pd.DataFrame([series1, series2,... ]) series간의 인덱스이름은 반드시 같아야 하며, 인덱스가 열로 배치됨"
   ]
  },
  {
   "cell_type": "code",
   "execution_count": 1,
   "id": "e0774d97",
   "metadata": {
    "scrolled": true
   },
   "outputs": [
    {
     "name": "stdout",
     "output_type": "stream",
     "text": [
      "a    100\n",
      "b     70\n",
      "c     50\n",
      "dtype: int64\n",
      "\n",
      "\n",
      "a    101\n",
      "b     71\n",
      "c     51\n",
      "dtype: int64\n",
      "\n",
      "\n",
      "a    1.0\n",
      "b    0.7\n",
      "c    0.5\n",
      "dtype: float64\n",
      "\n",
      "\n"
     ]
    }
   ],
   "source": [
    "import pandas as pd\n",
    "dict_data = {'a' : 100, 'b' : 70, 'c' : 50}\n",
    "series = pd.Series(dict_data)\n",
    "print(series)\n",
    "print(\"\\n\")\n",
    "\n",
    "add_series = series + 1 #모든 원소에 접근\n",
    "print(add_series)\n",
    "print(\"\\n\")\n",
    "\n",
    "percent_series = series / 100\n",
    "print(percent_series)\n",
    "print(\"\\n\")\n"
   ]
  },
  {
   "cell_type": "code",
   "execution_count": 1,
   "id": "cdaffcf0",
   "metadata": {},
   "outputs": [
    {
     "name": "stdout",
     "output_type": "stream",
     "text": [
      "a    100\n",
      "b     70\n",
      "c     50\n",
      "dtype: int64\n",
      "\n",
      "\n",
      "a    80\n",
      "b    10\n",
      "c    40\n",
      "dtype: int64\n",
      "\n",
      "\n",
      "         a      b        c\n",
      "0   180.00   80.0    90.00\n",
      "1    20.00   60.0    10.00\n",
      "2  8000.00  700.0  2000.00\n",
      "3     1.25    7.0     1.25\n"
     ]
    }
   ],
   "source": [
    "#시리즈 vs 시리즈 : 같은 위치끼리의 연산\n",
    "import pandas as pd\n",
    "dict_data1 = {'a' : 100, 'b' : 70, 'c' : 50 }\n",
    "dict_data2 = {'a' : 80, 'b' : 10, 'c' : 40}\n",
    "series1 = pd.Series(dict_data1)\n",
    "series2 = pd.Series(dict_data2)\n",
    "print(series1)\n",
    "print(\"\\n\")\n",
    "print(series2)\n",
    "print(\"\\n\")\n",
    "\n",
    "add = series1 + series2 \n",
    "sub = series1 - series2\n",
    "multi = series1 * series2\n",
    "divi = series1 / series2\n",
    "\n",
    "result = pd.DataFrame([add, sub, multi, divi]) #pd.DataFrame([시리즈1, 시리즈2,...])\n",
    "#시리즈를 모아 데이터 프레임을 만드는 경우 반드시 시리즈간 index는 같아야한다. \n",
    "#index가 열의 위치로 가고 각 시리즈는 한개의 행을 구성한다.\n",
    "print(result)\n"
   ]
  },
  {
   "cell_type": "code",
   "execution_count": 3,
   "id": "b84e177f",
   "metadata": {},
   "outputs": [
    {
     "name": "stdout",
     "output_type": "stream",
     "text": [
      "a    100\n",
      "b     70\n",
      "c     50\n",
      "dtype: int64\n",
      "\n",
      "\n",
      "a    80\n",
      "b    10\n",
      "dtype: int64\n",
      "\n",
      "\n",
      "         a      b       c\n",
      "0   180.00   80.0     NaN\n",
      "1    20.00   60.0     0.0\n",
      "2  8000.00  700.0  2500.0\n",
      "3     1.25    7.0     1.0\n"
     ]
    }
   ],
   "source": [
    "#인덱스에 해당하는 값이 없을때, fill_value를 사용하여 산술연산을 수행한다.\n",
    "import pandas as pd\n",
    "\n",
    "dict_data1 = {'a' : 100, 'b' : 70, 'c' : 50 }\n",
    "dict_data2 = {'a' : 80, 'b' : 10}\n",
    "series1 = pd.Series(dict_data1)\n",
    "series2 = pd.Series(dict_data2)\n",
    "\n",
    "print(series1)\n",
    "print(\"\\n\")\n",
    "print(series2)\n",
    "print(\"\\n\")\n",
    "\n",
    "#값이 없을때 (시리즈 간의 크기가 다를 때) 시리즈 간의 연산은 fill_value를 사용한다.\n",
    "#시리즈 간의 크기가 다르고 fill_value 인자를 사용하지 않아도 연산은 가능하다. (NaN)으로 뜰 뿐\n",
    "add = series1.add(series2, fill_value = 50) #series1 + series2 와 같은 결과, 다만 이건 fill_value인자 추가 가능\n",
    "sub = series1.sub(series2, fill_value = 50)\n",
    "multi = series1.mul(series2, fill_value = 50)\n",
    "divi = series1.div(series2, fill_value = 50)\n",
    "\n",
    "result = pd.DataFrame([add,sub,multi,divi])\n",
    "print(result)\n"
   ]
  },
  {
   "cell_type": "code",
   "execution_count": 7,
   "id": "f5f7f410",
   "metadata": {
    "scrolled": false
   },
   "outputs": [
    {
     "name": "stdout",
     "output_type": "stream",
     "text": [
      "a    100\n",
      "b     70\n",
      "c     50\n",
      "dtype: int64\n",
      "\n",
      "\n",
      "b    80\n",
      "c    10\n",
      "d    40\n",
      "dtype: int64\n",
      "\n",
      "\n",
      "a      NaN\n",
      "b    150.0\n",
      "c     60.0\n",
      "d      NaN\n",
      "dtype: float64\n",
      "      a         b      c   d\n",
      "add NaN   150.000   60.0 NaN\n",
      "sub NaN   -10.000   40.0 NaN\n",
      "mul NaN  5600.000  500.0 NaN\n",
      "div NaN     0.875    5.0 NaN\n"
     ]
    }
   ],
   "source": [
    "#두 시리즈의 원소의 개수가 다르거나, 인덱스가 서로 맞지 않는 경우에도 연산은 가능함 \n",
    "#인덱스가 맞지 않는 경우 NaN을 반환한다. \n",
    "dict_data1 = {'a' : 100, 'b' : 70, 'c' : 50 }\n",
    "dict_data2 = {'b' : 80, 'c' : 10, 'd' : 40 }\n",
    "series1 = pd.Series(dict_data1)\n",
    "series2 = pd.Series(dict_data2)\n",
    "\n",
    "print(series1)\n",
    "print(\"\\n\")\n",
    "print(series2)\n",
    "print(\"\\n\")\n",
    "\n",
    "add = series1.add(series2)\n",
    "print(add) #정수형 인덱스는 다르더라도 인덱스 이름이 같다면 연산을 수행함.\n",
    "sub = series1.sub(series2)\n",
    "multi = series1.mul(series2)\n",
    "divi = series1.div(series2)\n",
    "\n",
    "result = pd.DataFrame([add,sub,multi,divi], index = ['add', 'sub', 'mul', 'div'])\n",
    "print(result)"
   ]
  },
  {
   "cell_type": "markdown",
   "id": "7c36d748",
   "metadata": {},
   "source": [
    "## 데이터프레임 연산\n",
    "- 데이터프레임 vs 숫자\n",
    "- df.head()\n",
    "- seaborn.load_dataset('데이터이름') :: 해당 데이터프레임을 불러온다.\n",
    "- df.loc[: , [col1, col2,..]]\n"
   ]
  },
  {
   "cell_type": "code",
   "execution_count": 8,
   "id": "ba1c11e0",
   "metadata": {
    "scrolled": false
   },
   "outputs": [
    {
     "name": "stdout",
     "output_type": "stream",
     "text": [
      "   sepal_length  sepal_width  petal_length  petal_width species\n",
      "0           5.1          3.5           1.4          0.2  setosa\n",
      "1           4.9          3.0           1.4          0.2  setosa\n",
      "2           4.7          3.2           1.3          0.2  setosa\n",
      "3           4.6          3.1           1.5          0.2  setosa\n",
      "4           5.0          3.6           1.4          0.2  setosa\n",
      "\n",
      "\n",
      "   sepal_length  sepal_width\n",
      "0           5.1          3.5\n",
      "1           4.9          3.0\n",
      "2           4.7          3.2\n",
      "3           4.6          3.1\n",
      "4           5.0          3.6\n",
      "\n",
      "\n",
      "   sepal_length  sepal_width\n",
      "0           6.1          4.5\n",
      "1           5.9          4.0\n",
      "2           5.7          4.2\n",
      "3           5.6          4.1\n",
      "4           6.0          4.6\n"
     ]
    }
   ],
   "source": [
    "import pandas as pd\n",
    "import seaborn as sns\n",
    "\n",
    "iris = sns.load_dataset('iris') #seaborn에서 'iris' 데이터 프레임을 iris에 할당한다.\n",
    "print(iris.head()) #iris 데이터프레임의 상위 5개를 보여준다. \n",
    "print(\"\\n\")\n",
    "\n",
    "df = iris.loc[: , ['sepal_length', 'sepal_width']]\n",
    "#df.loc[]이 기본 set이며 df.loc[행,열]이다. 그래서 df.loc['name1']이라면 행만 선택이 되는 것 \n",
    "#이때 행(열)을 (,)로 복수 선택하고 싶다면, []리스트 구조로 해야한다.\n",
    "print(df.head())\n",
    "print(\"\\n\")\n",
    "\n",
    "df = df + 1 # 데이터프레임 vs 숫자 : 각 원소에 접근한다.\n",
    "print(df.head())"
   ]
  },
  {
   "cell_type": "markdown",
   "id": "20ada80d",
   "metadata": {},
   "source": [
    "- 데이터프레임 vs 데이터프레임"
   ]
  },
  {
   "cell_type": "code",
   "execution_count": 9,
   "id": "64285b48",
   "metadata": {
    "scrolled": true
   },
   "outputs": [
    {
     "name": "stdout",
     "output_type": "stream",
     "text": [
      "   sepal_length  sepal_width  petal_length  petal_width species\n",
      "0           5.1          3.5           1.4          0.2  setosa\n",
      "1           4.9          3.0           1.4          0.2  setosa\n",
      "2           4.7          3.2           1.3          0.2  setosa\n",
      "3           4.6          3.1           1.5          0.2  setosa\n",
      "4           5.0          3.6           1.4          0.2  setosa\n",
      "\n",
      "\n",
      "   sepal_length  sepal_width\n",
      "0           5.1          3.5\n",
      "1           4.9          3.0\n",
      "2           4.7          3.2\n",
      "3           4.6          3.1\n",
      "4           5.0          3.6\n",
      "\n",
      "\n",
      "   sepal_length  sepal_width\n",
      "0           6.1          4.5\n",
      "1           5.9          4.0\n",
      "2           5.7          4.2\n",
      "3           5.6          4.1\n",
      "4           6.0          4.6\n",
      "   sepal_length  sepal_width\n",
      "0           1.0          1.0\n",
      "1           1.0          1.0\n",
      "2           1.0          1.0\n",
      "3           1.0          1.0\n",
      "4           1.0          1.0\n"
     ]
    }
   ],
   "source": [
    "import pandas as pd\n",
    "import seaborn as sns\n",
    "\n",
    "iris = sns.load_dataset('iris') \n",
    "print(iris.head())\n",
    "print(\"\\n\")\n",
    "\n",
    "df = iris.loc[: , ['sepal_length', 'sepal_width']]\n",
    "print(df.head())\n",
    "print(\"\\n\")\n",
    "\n",
    "addition = df + 1\n",
    "print(addition.head())\n",
    "\n",
    "sub = addition - df\n",
    "print(sub.head())"
   ]
  },
  {
   "cell_type": "code",
   "execution_count": 11,
   "id": "29b2a56d",
   "metadata": {},
   "outputs": [
    {
     "name": "stdout",
     "output_type": "stream",
     "text": [
      "   sepal_length  sepal_width  petal_length  petal_width species\n",
      "0           5.1          3.5           1.4          0.2  setosa\n",
      "1           4.9          3.0           1.4          0.2  setosa\n",
      "2           4.7          3.2           1.3          0.2  setosa\n",
      "3           4.6          3.1           1.5          0.2  setosa\n",
      "4           5.0          3.6           1.4          0.2  setosa\n",
      "\n",
      "\n",
      "   sepal_length  sepal_width\n",
      "0           5.1          3.5\n",
      "1           4.9          3.0\n",
      "2           4.7          3.2\n",
      "3           4.6          3.1\n",
      "4           5.0          3.6\n",
      "\n",
      "\n",
      "   sepal_width  petal_length\n",
      "0          3.5           1.4\n",
      "1          3.0           1.4\n",
      "2          3.2           1.3\n",
      "3          3.1           1.5\n",
      "4          3.6           1.4\n",
      "\n",
      "\n",
      "   petal_length  sepal_length  sepal_width\n",
      "0           NaN           NaN          7.0\n",
      "1           NaN           NaN          6.0\n",
      "2           NaN           NaN          6.4\n",
      "3           NaN           NaN          6.2\n",
      "4           NaN           NaN          7.2\n"
     ]
    }
   ],
   "source": [
    "#데이터 프레임의 행과 열이 같지 않더라도 연산은 가능하다.\n",
    "#행과 열이 다르면 NaN\n",
    "import pandas as pd\n",
    "import seaborn as sns\n",
    "\n",
    "iris = sns.load_dataset('iris')\n",
    "print(iris.head())\n",
    "print(\"\\n\")\n",
    "\n",
    "# sepal_length  sepal_width  petal_length  petal_width \n",
    "df1 = iris.loc[:,['sepal_length','sepal_width']]\n",
    "print(df1.head())\n",
    "print(\"\\n\")\n",
    "\n",
    "df2 = iris.loc[:,['sepal_width', 'petal_length']]\n",
    "print(df2.head())\n",
    "print(\"\\n\")\n",
    "\n",
    "add = df1 + df2\n",
    "print(add.head())\n"
   ]
  },
  {
   "cell_type": "markdown",
   "id": "379b40c5",
   "metadata": {},
   "source": [
    "---------------------  \n",
    "---------------------  \n",
    "---------------------  "
   ]
  },
  {
   "cell_type": "markdown",
   "id": "e07b2d8a",
   "metadata": {},
   "source": [
    "# 데이터 프레임 구조\n",
    "- 데이터를 처음 불러오면 데이터에 대해 전반적인 내용을 확인해야함.\n",
    "- 전체 데이터 내용 가운데 일부를 미리 확인 : df.head() df.tail()\n",
    "- 데이터프레임의 크기와 기본정보, 요약 정보 등을 파악 \n",
    "- 데이터프레임 내 개별 열(column)의 데이터에 대한 정보를 파악 : 전체 데이터 개수, 고유값 개수"
   ]
  },
  {
   "cell_type": "markdown",
   "id": "26aa27ab",
   "metadata": {},
   "source": [
    "## 데이터 정보 살펴보기\n",
    "- df.head(), df.tail()\n",
    "- df.shape\n",
    "- df.info() :: shape, 각 열의 이름, non-NaN의 개수, 데이터 타입\n",
    "- df.dtypes\n",
    "- df.colname.dtypes"
   ]
  },
  {
   "cell_type": "code",
   "execution_count": 1,
   "id": "21b737ed",
   "metadata": {},
   "outputs": [
    {
     "name": "stdout",
     "output_type": "stream",
     "text": [
      "   sepal_length  sepal_width  petal_length  petal_width species\n",
      "0           5.1          3.5           1.4          0.2  setosa\n",
      "1           4.9          3.0           1.4          0.2  setosa\n",
      "2           4.7          3.2           1.3          0.2  setosa\n",
      "3           4.6          3.1           1.5          0.2  setosa\n",
      "4           5.0          3.6           1.4          0.2  setosa\n",
      "5           5.4          3.9           1.7          0.4  setosa\n",
      "6           4.6          3.4           1.4          0.3  setosa\n",
      "7           5.0          3.4           1.5          0.2  setosa\n",
      "8           4.4          2.9           1.4          0.2  setosa\n",
      "9           4.9          3.1           1.5          0.1  setosa\n",
      "\n",
      "\n",
      "     sepal_length  sepal_width  petal_length  petal_width    species\n",
      "140           6.7          3.1           5.6          2.4  virginica\n",
      "141           6.9          3.1           5.1          2.3  virginica\n",
      "142           5.8          2.7           5.1          1.9  virginica\n",
      "143           6.8          3.2           5.9          2.3  virginica\n",
      "144           6.7          3.3           5.7          2.5  virginica\n",
      "145           6.7          3.0           5.2          2.3  virginica\n",
      "146           6.3          2.5           5.0          1.9  virginica\n",
      "147           6.5          3.0           5.2          2.0  virginica\n",
      "148           6.2          3.4           5.4          2.3  virginica\n",
      "149           5.9          3.0           5.1          1.8  virginica\n",
      "\n",
      "\n"
     ]
    }
   ],
   "source": [
    "import pandas as pd\n",
    "import seaborn as sns\n",
    "\n",
    "iris = sns.load_dataset(\"iris\")\n",
    "print(iris.head(10)) #인자를 넣지 않으면 default 5 를 반환한다. \n",
    "print(\"\\n\")\n",
    "print(iris.tail(10))\n",
    "print(\"\\n\")"
   ]
  },
  {
   "cell_type": "code",
   "execution_count": 4,
   "id": "f11e22c4",
   "metadata": {},
   "outputs": [
    {
     "name": "stdout",
     "output_type": "stream",
     "text": [
      "(150, 5)\n"
     ]
    }
   ],
   "source": [
    "#데이터프레임의 크기(행/열)\n",
    "print(iris.shape)"
   ]
  },
  {
   "cell_type": "code",
   "execution_count": 6,
   "id": "19a5e5a6",
   "metadata": {},
   "outputs": [
    {
     "name": "stdout",
     "output_type": "stream",
     "text": [
      "<class 'pandas.core.frame.DataFrame'>\n",
      "RangeIndex: 150 entries, 0 to 149\n",
      "Data columns (total 5 columns):\n",
      " #   Column        Non-Null Count  Dtype  \n",
      "---  ------        --------------  -----  \n",
      " 0   sepal_length  150 non-null    float64\n",
      " 1   sepal_width   150 non-null    float64\n",
      " 2   petal_length  150 non-null    float64\n",
      " 3   petal_width   150 non-null    float64\n",
      " 4   species       150 non-null    object \n",
      "dtypes: float64(4), object(1)\n",
      "memory usage: 6.0+ KB\n"
     ]
    }
   ],
   "source": [
    "#데이터프레임 정보 : shape, 열 이름, 각 열의 non - NaN 개수, 각 열의 datatype\n",
    "iris.info()"
   ]
  },
  {
   "cell_type": "code",
   "execution_count": 7,
   "id": "bc26906e",
   "metadata": {},
   "outputs": [
    {
     "name": "stdout",
     "output_type": "stream",
     "text": [
      "sepal_length    float64\n",
      "sepal_width     float64\n",
      "petal_length    float64\n",
      "petal_width     float64\n",
      "species          object\n",
      "dtype: object\n",
      "\n",
      "\n",
      "float64\n"
     ]
    }
   ],
   "source": [
    "#데이터 타입\n",
    "#int, float, object(=string), datetime 등 다양한 타입 존재함.\n",
    "print(iris.dtypes) #각 열의 데이터타입을 출력한다.\n",
    "print(\"\\n\")\n",
    "print(iris.sepal_width.dtypes) #df.colname.dtypes : 해당 열의 데이터 타입을 출력한다.\n"
   ]
  },
  {
   "cell_type": "markdown",
   "id": "a280b836",
   "metadata": {},
   "source": [
    "## 데이터프레임 통계 정보\n",
    "- df.describe()\n",
    "- df.describe(include = 'all')"
   ]
  },
  {
   "cell_type": "code",
   "execution_count": 8,
   "id": "a6de03dd",
   "metadata": {},
   "outputs": [
    {
     "name": "stdout",
     "output_type": "stream",
     "text": [
      "       sepal_length  sepal_width  petal_length  petal_width\n",
      "count    150.000000   150.000000    150.000000   150.000000\n",
      "mean       5.843333     3.057333      3.758000     1.199333\n",
      "std        0.828066     0.435866      1.765298     0.762238\n",
      "min        4.300000     2.000000      1.000000     0.100000\n",
      "25%        5.100000     2.800000      1.600000     0.300000\n",
      "50%        5.800000     3.000000      4.350000     1.300000\n",
      "75%        6.400000     3.300000      5.100000     1.800000\n",
      "max        7.900000     4.400000      6.900000     2.500000\n",
      "\n",
      "\n"
     ]
    }
   ],
   "source": [
    "print(iris.describe()) #object은 제외하고 보여줌 \n",
    "#count(데이터의 개수),  mean, std, min, ,max  25%, 50%, 70%\n",
    "print(\"\\n\")"
   ]
  },
  {
   "cell_type": "code",
   "execution_count": 11,
   "id": "804f7c34",
   "metadata": {
    "scrolled": true
   },
   "outputs": [
    {
     "name": "stdout",
     "output_type": "stream",
     "text": [
      "        sepal_length  sepal_width  petal_length  petal_width species\n",
      "count     150.000000   150.000000    150.000000   150.000000     150\n",
      "unique           NaN          NaN           NaN          NaN       3\n",
      "top              NaN          NaN           NaN          NaN  setosa\n",
      "freq             NaN          NaN           NaN          NaN      50\n",
      "mean        5.843333     3.057333      3.758000     1.199333     NaN\n",
      "std         0.828066     0.435866      1.765298     0.762238     NaN\n",
      "min         4.300000     2.000000      1.000000     0.100000     NaN\n",
      "25%         5.100000     2.800000      1.600000     0.300000     NaN\n",
      "50%         5.800000     3.000000      4.350000     1.300000     NaN\n",
      "75%         6.400000     3.300000      5.100000     1.800000     NaN\n",
      "max         7.900000     4.400000      6.900000     2.500000     NaN\n"
     ]
    }
   ],
   "source": [
    "#df.describe(include = 'all') 모든 열의 정보를 보여줌 (object 포함) + unique(고유값의 개수) , top(최빈값)\n",
    "print(iris.describe(include = 'all'))"
   ]
  },
  {
   "cell_type": "markdown",
   "id": "4767faae",
   "metadata": {},
   "source": [
    "## 각 열의 고유값 개수 확인하기 \n",
    "- df[col].nunique(), series.nunique\n",
    "- columns = df.columns\n",
    "- for column in columns: df[column].nunique() "
   ]
  },
  {
   "cell_type": "code",
   "execution_count": 19,
   "id": "187bd324",
   "metadata": {
    "scrolled": true
   },
   "outputs": [
    {
     "name": "stdout",
     "output_type": "stream",
     "text": [
      "Index(['sepal_length', 'sepal_width', 'petal_length', 'petal_width',\n",
      "       'species'],\n",
      "      dtype='object')\n",
      "\n",
      "\n",
      "열 sepal_length 의 고유값 개수 : 35\n",
      "열 sepal_width 의 고유값 개수 : 23\n",
      "열 petal_length 의 고유값 개수 : 43\n",
      "열 petal_width 의 고유값 개수 : 22\n",
      "열 species 의 고유값 개수 : 3\n"
     ]
    }
   ],
   "source": [
    "columns = iris.columns #열의 이름만 따로 모음\n",
    "print(columns)\n",
    "#df.index, df.columns\n",
    "#series.index, series.values\n",
    "\n",
    "#각 열의 고유값 개수 :: 고유값 개수 :: 1,1,2,2,3 이면 고유값 개수는 3\n",
    "print(\"\\n\")\n",
    "for column in columns:\n",
    "    unique_count = iris[column].nunique() #df[열이름].nunique()\n",
    "                                          #각 열(시리즈) 추출하는 코드 암기 \n",
    "    print(\"열 {} 의 고유값 개수 : {}\".format(column, unique_count))\n"
   ]
  },
  {
   "cell_type": "markdown",
   "id": "011f3b1e",
   "metadata": {},
   "source": [
    "## 데이터 개수 확인하기\n",
    "- df.count()"
   ]
  },
  {
   "cell_type": "code",
   "execution_count": 1,
   "id": "ba057d16",
   "metadata": {},
   "outputs": [
    {
     "name": "stdout",
     "output_type": "stream",
     "text": [
      "sepal_length    150\n",
      "sepal_width     150\n",
      "petal_length    150\n",
      "petal_width     150\n",
      "species         150\n",
      "dtype: int64\n",
      "\n",
      "\n",
      "<class 'pandas.core.series.Series'>\n"
     ]
    }
   ],
   "source": [
    "import pandas as pd\n",
    "import seaborn as sns\n",
    "iris = sns.load_dataset('iris')\n",
    "count_iris = iris.count() # df.count() 각 열의 이름이 index이고 , 각 열의 데이터 수를 value로 가지는 시리즈 반환\n",
    "print(count_iris)\n",
    "print(\"\\n\")\n",
    "print(type(count_iris))"
   ]
  },
  {
   "cell_type": "markdown",
   "id": "8d80741f",
   "metadata": {},
   "source": [
    "## 각 열의 고유값 확인하기\n",
    "- df[col].value_counts()\n",
    "- len(시리즈)"
   ]
  },
  {
   "cell_type": "code",
   "execution_count": 3,
   "id": "a65c4256",
   "metadata": {},
   "outputs": [
    {
     "name": "stdout",
     "output_type": "stream",
     "text": [
      "setosa        50\n",
      "versicolor    50\n",
      "virginica     50\n",
      "Name: species, dtype: int64\n",
      "\n",
      "\n",
      "<class 'pandas.core.series.Series'>\n",
      "\n",
      "\n",
      "species 고유값의 개수 : 3\n"
     ]
    }
   ],
   "source": [
    "unique_count = iris['species'].value_counts()\n",
    "print(unique_count)\n",
    "print(\"\\n\")\n",
    "print(type(unique_count))\n",
    "#df[col].value_counts() :: 시리즈의 각 데이터가 몇개있는지 반환함. (시리즈로 반환)\n",
    "print(\"\\n\")\n",
    "print(\"species 고유값의 개수 :\",len(unique_count))\n",
    "#len(시리즈) : 시리즈 행의 개수를 반환한다.\n",
    "#df[특정 열].value_counts() --> 이 시리즈의 열의 수는 곧 고유값의 수 \n",
    "#따라서 len(위의 시리즈) :: 고유값의 개수 "
   ]
  },
  {
   "cell_type": "markdown",
   "id": "8e65b4d1",
   "metadata": {},
   "source": [
    "--------------------------  \n",
    "--------------------------  \n",
    "--------------------------  "
   ]
  },
  {
   "cell_type": "markdown",
   "id": "578f2a28",
   "metadata": {},
   "source": [
    "# 데이터 통계 추출\n",
    "- 데이터에 대한 각 종 통계 데이터를 추출할 수 있는 메소드가 데이터프레임에 존재\n",
    "- 전체합, 평균값, 표준편차, 중간값, 최대값, 최소값, 상관계수\n",
    "- int,float 타입의 데이터에 주로 적용되지만 일부 메소드는 object에도 사용 가능함."
   ]
  },
  {
   "cell_type": "markdown",
   "id": "305ede69",
   "metadata": {},
   "source": [
    "## 전체합\n",
    "- df.sum()\n",
    "- df[col].sum()"
   ]
  },
  {
   "cell_type": "code",
   "execution_count": 4,
   "id": "9225f3d9",
   "metadata": {},
   "outputs": [
    {
     "name": "stdout",
     "output_type": "stream",
     "text": [
      "   sepal_length  sepal_width  petal_length  petal_width species\n",
      "0           5.1          3.5           1.4          0.2  setosa\n",
      "1           4.9          3.0           1.4          0.2  setosa\n",
      "2           4.7          3.2           1.3          0.2  setosa\n",
      "3           4.6          3.1           1.5          0.2  setosa\n",
      "4           5.0          3.6           1.4          0.2  setosa\n",
      "\n",
      "\n",
      "sepal_length                                                876.5\n",
      "sepal_width                                                 458.6\n",
      "petal_length                                                563.7\n",
      "petal_width                                                 179.9\n",
      "species         setosasetosasetosasetosasetosasetosasetosaseto...\n",
      "dtype: object\n",
      "\n",
      "\n",
      "sepal_length 총합 876.5\n"
     ]
    }
   ],
   "source": [
    "import pandas as pd\n",
    "import seaborn as sns\n",
    "\n",
    "iris = sns.load_dataset('iris')\n",
    "print(iris.head())\n",
    "print('\\n')\n",
    "print(iris.sum())\n",
    "#각 열별로 데이터를 합하고 시리즈로 반환 \n",
    "print('\\n')\n",
    "print('sepal_length 총합', iris['sepal_length'].sum())\n",
    "#열만 따로 뽑아서 적용 가능함. \n"
   ]
  },
  {
   "cell_type": "markdown",
   "id": "bf4a1c32",
   "metadata": {},
   "source": [
    "## 평균값\n",
    "- df.mean()\n",
    "- df[col].mean()"
   ]
  },
  {
   "cell_type": "code",
   "execution_count": 6,
   "id": "5c96c38e",
   "metadata": {},
   "outputs": [
    {
     "name": "stdout",
     "output_type": "stream",
     "text": [
      "   sepal_length  sepal_width  petal_length  petal_width species\n",
      "0           5.1          3.5           1.4          0.2  setosa\n",
      "1           4.9          3.0           1.4          0.2  setosa\n",
      "2           4.7          3.2           1.3          0.2  setosa\n",
      "3           4.6          3.1           1.5          0.2  setosa\n",
      "4           5.0          3.6           1.4          0.2  setosa\n",
      "\n",
      "\n",
      "sepal_length    5.843333\n",
      "sepal_width     3.057333\n",
      "petal_length    3.758000\n",
      "petal_width     1.199333\n",
      "dtype: float64\n",
      "\n",
      "\n",
      "sepal_length의 평균 :  5.843333333333335\n"
     ]
    },
    {
     "name": "stderr",
     "output_type": "stream",
     "text": [
      "C:\\Users\\khsls\\AppData\\Local\\Temp\\ipykernel_440\\3153802875.py:8: FutureWarning: Dropping of nuisance columns in DataFrame reductions (with 'numeric_only=None') is deprecated; in a future version this will raise TypeError.  Select only valid columns before calling the reduction.\n",
      "  print(iris.mean())\n"
     ]
    }
   ],
   "source": [
    "import pandas as pd\n",
    "import seaborn as sns\n",
    "\n",
    "iris = sns.load_dataset('iris')\n",
    "print(iris.head())\n",
    "print('\\n')\n",
    "\n",
    "print(iris.mean())\n",
    "print(\"\\n\")\n",
    "print('sepal_length의 평균 : ', iris['sepal_length'].mean())"
   ]
  },
  {
   "cell_type": "markdown",
   "id": "108346ff",
   "metadata": {},
   "source": [
    "## 표준편차\n",
    "- mean, sum 과 사용법 같음. std()메소드 사용 \n",
    "- df.std()\n",
    "- df[col].std()"
   ]
  },
  {
   "cell_type": "code",
   "execution_count": 2,
   "id": "1f0a954d",
   "metadata": {
    "scrolled": false
   },
   "outputs": [
    {
     "name": "stdout",
     "output_type": "stream",
     "text": [
      "   sepal_length  sepal_width  petal_length  petal_width species\n",
      "0           5.1          3.5           1.4          0.2  setosa\n",
      "1           4.9          3.0           1.4          0.2  setosa\n",
      "2           4.7          3.2           1.3          0.2  setosa\n",
      "3           4.6          3.1           1.5          0.2  setosa\n",
      "4           5.0          3.6           1.4          0.2  setosa\n",
      "\n",
      "\n",
      "sepal_length    0.828066\n",
      "sepal_width     0.435866\n",
      "petal_length    1.765298\n",
      "petal_width     0.762238\n",
      "dtype: float64\n",
      "\n",
      "\n",
      "sepal_length의 표준편차:  0.8280661279778629\n"
     ]
    },
    {
     "name": "stderr",
     "output_type": "stream",
     "text": [
      "C:\\Users\\khsls\\AppData\\Local\\Temp\\ipykernel_11996\\3444257553.py:8: FutureWarning: Dropping of nuisance columns in DataFrame reductions (with 'numeric_only=None') is deprecated; in a future version this will raise TypeError.  Select only valid columns before calling the reduction.\n",
      "  print(iris.std())\n"
     ]
    }
   ],
   "source": [
    "import pandas as pd\n",
    "import seaborn as sns\n",
    "\n",
    "iris = sns.load_dataset('iris')\n",
    "print(iris.head())\n",
    "print('\\n')\n",
    "\n",
    "print(iris.std())\n",
    "print(\"\\n\")\n",
    "print('sepal_length의 표준편차: ', iris['sepal_length'].std())"
   ]
  },
  {
   "cell_type": "markdown",
   "id": "2d7669f7",
   "metadata": {},
   "source": [
    "## 중간값\n",
    "- df.median(), df[col].median()\n",
    "- 차순 정리 한다음 순서상 중간값이 중간값 "
   ]
  },
  {
   "cell_type": "code",
   "execution_count": 3,
   "id": "3ec833f1",
   "metadata": {},
   "outputs": [
    {
     "name": "stdout",
     "output_type": "stream",
     "text": [
      "   sepal_length  sepal_width  petal_length  petal_width species\n",
      "0           5.1          3.5           1.4          0.2  setosa\n",
      "1           4.9          3.0           1.4          0.2  setosa\n",
      "2           4.7          3.2           1.3          0.2  setosa\n",
      "3           4.6          3.1           1.5          0.2  setosa\n",
      "4           5.0          3.6           1.4          0.2  setosa\n",
      "\n",
      "\n",
      "sepal_length    5.80\n",
      "sepal_width     3.00\n",
      "petal_length    4.35\n",
      "petal_width     1.30\n",
      "dtype: float64\n",
      "\n",
      "\n",
      "sepal_length의 중간값 :  5.8\n"
     ]
    },
    {
     "name": "stderr",
     "output_type": "stream",
     "text": [
      "C:\\Users\\khsls\\AppData\\Local\\Temp\\ipykernel_11996\\919482960.py:8: FutureWarning: Dropping of nuisance columns in DataFrame reductions (with 'numeric_only=None') is deprecated; in a future version this will raise TypeError.  Select only valid columns before calling the reduction.\n",
      "  print(iris.median())\n"
     ]
    }
   ],
   "source": [
    "import pandas as pd\n",
    "import seaborn as sns\n",
    "\n",
    "iris = sns.load_dataset('iris')\n",
    "print(iris.head())\n",
    "print('\\n')\n",
    "\n",
    "print(iris.median())\n",
    "print(\"\\n\")\n",
    "print('sepal_length의 중간값 : ', iris['sepal_length'].median())"
   ]
  },
  {
   "cell_type": "markdown",
   "id": "3606fabe",
   "metadata": {},
   "source": [
    "## 최대값, 최소값\n",
    "- df.max()\n",
    "- df[col].max()"
   ]
  },
  {
   "cell_type": "code",
   "execution_count": 4,
   "id": "fecbd39a",
   "metadata": {},
   "outputs": [
    {
     "name": "stdout",
     "output_type": "stream",
     "text": [
      "   sepal_length  sepal_width  petal_length  petal_width species\n",
      "0           5.1          3.5           1.4          0.2  setosa\n",
      "1           4.9          3.0           1.4          0.2  setosa\n",
      "2           4.7          3.2           1.3          0.2  setosa\n",
      "3           4.6          3.1           1.5          0.2  setosa\n",
      "4           5.0          3.6           1.4          0.2  setosa\n",
      "\n",
      "\n",
      "sepal_length          7.9\n",
      "sepal_width           4.4\n",
      "petal_length          6.9\n",
      "petal_width           2.5\n",
      "species         virginica\n",
      "dtype: object\n",
      "\n",
      "\n",
      "sepal_length의 최대값 :  7.9\n"
     ]
    }
   ],
   "source": [
    "import pandas as pd\n",
    "import seaborn as sns\n",
    "\n",
    "iris = sns.load_dataset('iris')\n",
    "print(iris.head())\n",
    "print('\\n')\n",
    "\n",
    "print(iris.max())\n",
    "print(\"\\n\")\n",
    "print('sepal_length의 최대값 : ', iris['sepal_length'].max())"
   ]
  },
  {
   "cell_type": "markdown",
   "id": "eebdd7e9",
   "metadata": {},
   "source": [
    "## 상관계수\n",
    "- 두 열을 한쌍으로 하여 두 변수(열임. 행아님!)간의 상관계수(r)을 계산함 \n",
    "- 양의 상관관계 : r > 0 , 음의 상관관계 : r < 0, 두 변수가 독립인 경우 r = 0 \n",
    "- 양의 상관관계 : 증가면 증가 \n",
    "- df.corr()\n",
    "- df[['col1','col2']].corr()"
   ]
  },
  {
   "cell_type": "code",
   "execution_count": 6,
   "id": "0d4f5a4c",
   "metadata": {
    "scrolled": false
   },
   "outputs": [
    {
     "name": "stdout",
     "output_type": "stream",
     "text": [
      "              sepal_length  sepal_width  petal_length  petal_width\n",
      "sepal_length      1.000000    -0.117570      0.871754     0.817941\n",
      "sepal_width      -0.117570     1.000000     -0.428440    -0.366126\n",
      "petal_length      0.871754    -0.428440      1.000000     0.962865\n",
      "petal_width       0.817941    -0.366126      0.962865     1.000000\n",
      "\n",
      "\n",
      "sepal_length    1.0\n",
      "sepal_width     1.0\n",
      "petal_length    1.0\n",
      "petal_width     1.0\n",
      "dtype: float64\n",
      "              sepal_length  petal_length\n",
      "sepal_length      1.000000      0.871754\n",
      "petal_length      0.871754      1.000000\n"
     ]
    }
   ],
   "source": [
    "print(iris.corr())  #열이 n개라면 n x n table 형성됨 \n",
    "print(\"\\n\")\n",
    "\n",
    "#특정 두열의 상관 계수\n",
    "print(iris[[\"sepal_length\", \"petal_length\"]].corr())\n"
   ]
  },
  {
   "cell_type": "markdown",
   "id": "2f7ff8df",
   "metadata": {},
   "source": [
    "--------------------  \n",
    "--------------------  \n",
    "--------------------  "
   ]
  },
  {
   "cell_type": "markdown",
   "id": "0fd9bfce",
   "metadata": {},
   "source": [
    "# 데이터 입출력\n",
    "## 데이터 읽어오기\n",
    "- 판다스는 다양한 형태의 외부파일을 데이터 프레임으로 읽어올 수 있음 \n",
    "- 반대로 데이터 프레임을 다양한 유형의 파일로 저장할 수도 있음.\n",
    "- 지원파일 (csv, json, excel, / html, sql, ...)"
   ]
  },
  {
   "cell_type": "markdown",
   "id": "faebd6d3",
   "metadata": {},
   "source": [
    "## csv파일\n",
    "- comma seperated value\n",
    "- 데이터를 콤마로 분류 \n",
    "- 파일 경로 지정 방법\n",
    "- pdf.read_csv(file_path, header = None, index_col = 'col1')"
   ]
  },
  {
   "cell_type": "code",
   "execution_count": 19,
   "id": "08dfd30d",
   "metadata": {},
   "outputs": [
    {
     "name": "stdout",
     "output_type": "stream",
     "text": [
      "   col1  col2  col3  col4\n",
      "0     0     1     2     3\n",
      "1     4     5     6     7\n",
      "2     8     9    10    11\n",
      "3    12    13    14    15\n",
      "\n",
      "\n",
      "      0     1     2     3\n",
      "0  col1  col2  col3  col4\n",
      "1     0     1     2     3\n",
      "2     4     5     6     7\n",
      "3     8     9    10    11\n",
      "4    12    13    14    15\n",
      "\n",
      "\n",
      "      col2  col3  col4\n",
      "col1                  \n",
      "0        1     2     3\n",
      "4        5     6     7\n",
      "8        9    10    11\n",
      "12      13    14    15\n"
     ]
    }
   ],
   "source": [
    "import pandas as pd\n",
    "\n",
    "#보통 파일 경로를 먼저 변수로 지정한다.\n",
    "#같은 디렉토리에 있는 경우 경로는 './파일명.확장자' -->'./read_sample1.csv'\n",
    "#다른 디렉토리에 있는 경우 풀 경로를 그대로 '풀경로/파일명.확장자'--> 'C://khsls/read_sample1.csv'\n",
    "#역슬래쉬가 아니라 (/) 그냥 슬래쉬를 사용한다.\n",
    "\n",
    "#default 첫 행은 col로 사용되고 index는 정수형 인덱스 \n",
    "file_path = './read_sample1.csv'\n",
    "df1 = pd.read_csv(file_path) #pd.read_csv(파일 경로)\n",
    "print(df1)\n",
    "print(\"\\n\")\n",
    "\n",
    "#header = None인자를 추가하면 첫줄은 그냥 행을 구성하고 col은 정수형으로 배치된다.\n",
    "\n",
    "df2 = pd.read_csv(file_path, header=None)\n",
    "print(df2)\n",
    "print(\"\\n\")\n",
    "\n",
    "#특정열을 인덱스 이름으로 지정가능하다.\n",
    "\n",
    "df3 = pd.read_csv(file_path, index_col = 'col1') #인덱스이름은 디폴트로 정수형 인덱스 이지만 \n",
    "                                                 #열 'col1'을 인덱스 이름으로 한다.\n",
    "                                                 #헤더 지정하지 않으면 첫행은 열의 이름을 구성한다.\n",
    "print(df3)"
   ]
  },
  {
   "cell_type": "markdown",
   "id": "384d7d53",
   "metadata": {},
   "source": [
    "## excel 파일\n",
    "- pip(conda) install openpyxl 라이브러리 설치 후 엑셀 파일 로드 해야함.\n",
    "- df.read_excel(file_path, engine = 'openpyxl', header = None, index_col = 'col1')"
   ]
  },
  {
   "cell_type": "code",
   "execution_count": 21,
   "id": "5a5eb251",
   "metadata": {},
   "outputs": [
    {
     "name": "stdout",
     "output_type": "stream",
     "text": [
      "   이름 성별  연령   점수  졸업연도\n",
      "0  기리  남  30   90  2010\n",
      "1  혜리  여  25   80  2015\n",
      "2  동엽  남  50  100  1982\n",
      "3  동현  남  40   50  1993\n",
      "4  한해  남  32   70  2008\n",
      "\n",
      "\n",
      "   성별  연령   점수  졸업연도\n",
      "이름                  \n",
      "기리  남  30   90  2010\n",
      "혜리  여  25   80  2015\n",
      "동엽  남  50  100  1982\n",
      "동현  남  40   50  1993\n",
      "한해  남  32   70  2008\n"
     ]
    }
   ],
   "source": [
    "import pandas as pd \n",
    "file_path = './read_sample1.xlsx'\n",
    "\n",
    "#나머지는 csv파일 읽는 것과 같지만 \n",
    "#엑셀파일을 읽을 때는 인자로 engine = 'openpyxl'반드시 있어야 한다.\n",
    "\n",
    "df1 = pd.read_excel(file_path, engine = 'openpyxl')\n",
    "print(df1)\n",
    "print(\"\\n\")\n",
    "\n",
    "#이름을 인덱스 이름으로 사용하고 싶음.\n",
    "\n",
    "df2 = pd.read_excel(file_path, index_col = '이름')\n",
    "print(df2)"
   ]
  },
  {
   "cell_type": "markdown",
   "id": "ffd3e9b7",
   "metadata": {},
   "source": [
    "## json 파일\n",
    "- key : value 구조를 갖는 특수한 파일 형식 \n",
    "- 딕셔너리로 시리즈를 만드는 것에서 col이름만 추가된 형식임.\n",
    "- { 'col1' : {'a' : 1, 'b' : 2, 'c' : 3}, 'col2' : { } ... } 구조"
   ]
  },
  {
   "cell_type": "code",
   "execution_count": 24,
   "id": "6d2a7262",
   "metadata": {
    "scrolled": true
   },
   "outputs": [
    {
     "name": "stdout",
     "output_type": "stream",
     "text": [
      "   gender  age  year  student\n",
      "기범     남자   30  1991     True\n",
      "혜리     여자   25  1994     True\n",
      "동엽     남자   50  1971    False\n",
      "\n",
      "\n",
      "Index(['기범', '혜리', '동엽'], dtype='object')\n"
     ]
    }
   ],
   "source": [
    "file_path = './read_sample1.json'\n",
    "df = pd.read_json(file_path)\n",
    "print(df)\n",
    "print(\"\\n\")\n",
    "print(df.index)"
   ]
  },
  {
   "cell_type": "markdown",
   "id": "8997c99a",
   "metadata": {},
   "source": [
    "## 데이터 출력하기\n",
    "## csv파일\n",
    "- df.set_index('열이름', inplace = True)\n",
    "- df.to_csv(파일명경로)"
   ]
  },
  {
   "cell_type": "code",
   "execution_count": 3,
   "id": "e1529e1c",
   "metadata": {},
   "outputs": [
    {
     "name": "stdout",
     "output_type": "stream",
     "text": [
      "     국어  수학   영어   음악\n",
      "이름                   \n",
      "기범  100  90  100   80\n",
      "혜리   80  80   40  100\n",
      "동엽   30  50   90   40\n"
     ]
    }
   ],
   "source": [
    "import pandas as pd\n",
    "dict_data = {\n",
    "    '이름' : ['기범', '혜리', '동엽'],\n",
    "    '국어' : [100,80,30],\n",
    "    '수학' : [90,80,50],\n",
    "    '영어' : [100,40,90],\n",
    "    '음악' : [80,100,40]\n",
    "}\n",
    "\n",
    "df = pd.DataFrame(dict_data)\n",
    "df.set_index('이름', inplace = True)\n",
    "#데이터 프레임을 만들면서 index 인자를 추가로 넣어도 되지만\n",
    "#다 만든 데이터 프레임에서 특정열을 index이름으로 사용가능하다.\n",
    "#inplace = True 인자가 없으면 index이름으로 표시되지 않으므로 반드시 필요!\n",
    "print(df)\n",
    "df.to_csv('./write_sample1.csv')\n",
    "#현재 디렉토리에 만들고 싶은 경우 ./\n",
    "#확장자명까지"
   ]
  },
  {
   "cell_type": "markdown",
   "id": "0463beda",
   "metadata": {},
   "source": [
    "## excel 파일 \n",
    "- df.to_excel(파일명경로)"
   ]
  },
  {
   "cell_type": "code",
   "execution_count": 4,
   "id": "9dec0cb4",
   "metadata": {
    "scrolled": true
   },
   "outputs": [
    {
     "name": "stdout",
     "output_type": "stream",
     "text": [
      "     국어  수학   영어   음악\n",
      "이름                   \n",
      "기범  100  90  100   80\n",
      "혜리   80  80   40  100\n",
      "동엽   30  50   90   40\n"
     ]
    }
   ],
   "source": [
    "dict_data = {\n",
    "    '이름' : ['기범', '혜리', '동엽'],\n",
    "    '국어' : [100,80,30],\n",
    "    '수학' : [90,80,50],\n",
    "    '영어' : [100,40,90],\n",
    "    '음악' : [80,100,40]\n",
    "}\n",
    "\n",
    "df = pd.DataFrame(dict_data)\n",
    "df.set_index('이름' , inplace = True)\n",
    "print(df)\n",
    "\n",
    "df.to_excel('./write_excel.xlsx')"
   ]
  },
  {
   "cell_type": "markdown",
   "id": "72b6f453",
   "metadata": {},
   "source": [
    "## json 파일\n",
    "- with open(file_path, 'w', encoding = 'utf-8') as file: (enter) df.to_json(file,ascii = False)"
   ]
  },
  {
   "cell_type": "code",
   "execution_count": 8,
   "id": "9d050a91",
   "metadata": {},
   "outputs": [
    {
     "name": "stdout",
     "output_type": "stream",
     "text": [
      "     국어  수학   영어   음악\n",
      "이름                   \n",
      "기범  100  90  100   80\n",
      "혜리   80  80   40  100\n",
      "동엽   30  50   90   40\n"
     ]
    }
   ],
   "source": [
    "dict_data = {\n",
    "    '이름' : ['기범', '혜리', '동엽'],\n",
    "    '국어' : [100,80,30],\n",
    "    '수학' : [90,80,50],\n",
    "    '영어' : [100,40,90],\n",
    "    '음악' : [80,100,40]\n",
    "}\n",
    "\n",
    "df = pd.DataFrame(dict_data)\n",
    "df.set_index('이름' , inplace = True)\n",
    "print(df)\n",
    "\n",
    "# df.to_json('./write_json.json')\n",
    "# json의 경우 이렇게 하면 파일은 만들어 지지만 한글이 깨짐.\n",
    "# json의 경우 아래 방식을 따르도록 한다.\n",
    "\n",
    "#1. file_path 지정 \n",
    "file_path = './write_json.json'\n",
    "\n",
    "#with open as 구문 \n",
    "with open(file_path, 'w', encoding = 'utf-8') as file:\n",
    "    df.to_json(file, force_ascii = False)\n",
    "    \n",
    "#with open(경로파일명, 'w', encoding='utf-8') as file:\n",
    "   # df.to_json(file, ascii = False)"
   ]
  }
 ],
 "metadata": {
  "kernelspec": {
   "display_name": "Python 3 (ipykernel)",
   "language": "python",
   "name": "python3"
  },
  "language_info": {
   "codemirror_mode": {
    "name": "ipython",
    "version": 3
   },
   "file_extension": ".py",
   "mimetype": "text/x-python",
   "name": "python",
   "nbconvert_exporter": "python",
   "pygments_lexer": "ipython3",
   "version": "3.9.12"
  }
 },
 "nbformat": 4,
 "nbformat_minor": 5
}
