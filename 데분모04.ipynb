{
 "cells": [
  {
   "cell_type": "markdown",
   "id": "e4bf1457",
   "metadata": {},
   "source": [
    "# 판다스 연산\n",
    "## 시리즈 연산"
   ]
  },
  {
   "cell_type": "markdown",
   "id": "4343c340",
   "metadata": {},
   "source": [
    "- 시리즈 vs 숫자 : 시리즈의 모든 원소에 개별적 접근\n",
    "- series + 1\n",
    "- series1 + series2\n",
    "- series3 = series1.add(series2, fill_vlaue = )\n",
    "- 크기가 다른 경우 없는 것은 NaN, 또는 fill_value를 활용한다.\n",
    "- 크기가 같으나 인덱스 이름이 다른 경우, 어느 한쪽 다른면 NaN을 반환\n",
    "- pd.DataFrame([series1, series2,... ]) series간의 인덱스이름은 반드시 같아야 하며, 인덱스가 열로 배치됨"
   ]
  },
  {
   "cell_type": "code",
   "execution_count": 1,
   "id": "e0774d97",
   "metadata": {
    "scrolled": true
   },
   "outputs": [
    {
     "name": "stdout",
     "output_type": "stream",
     "text": [
      "a    100\n",
      "b     70\n",
      "c     50\n",
      "dtype: int64\n",
      "\n",
      "\n",
      "a    101\n",
      "b     71\n",
      "c     51\n",
      "dtype: int64\n",
      "\n",
      "\n",
      "a    1.0\n",
      "b    0.7\n",
      "c    0.5\n",
      "dtype: float64\n",
      "\n",
      "\n"
     ]
    }
   ],
   "source": [
    "import pandas as pd\n",
    "dict_data = {'a' : 100, 'b' : 70, 'c' : 50}\n",
    "series = pd.Series(dict_data)\n",
    "print(series)\n",
    "print(\"\\n\")\n",
    "\n",
    "add_series = series + 1 #모든 원소에 접근\n",
    "print(add_series)\n",
    "print(\"\\n\")\n",
    "\n",
    "percent_series = series / 100\n",
    "print(percent_series)\n",
    "print(\"\\n\")\n"
   ]
  },
  {
   "cell_type": "code",
   "execution_count": 1,
   "id": "cdaffcf0",
   "metadata": {},
   "outputs": [
    {
     "name": "stdout",
     "output_type": "stream",
     "text": [
      "a    100\n",
      "b     70\n",
      "c     50\n",
      "dtype: int64\n",
      "\n",
      "\n",
      "a    80\n",
      "b    10\n",
      "c    40\n",
      "dtype: int64\n",
      "\n",
      "\n",
      "         a      b        c\n",
      "0   180.00   80.0    90.00\n",
      "1    20.00   60.0    10.00\n",
      "2  8000.00  700.0  2000.00\n",
      "3     1.25    7.0     1.25\n"
     ]
    }
   ],
   "source": [
    "#시리즈 vs 시리즈 : 같은 위치끼리의 연산\n",
    "import pandas as pd\n",
    "dict_data1 = {'a' : 100, 'b' : 70, 'c' : 50 }\n",
    "dict_data2 = {'a' : 80, 'b' : 10, 'c' : 40}\n",
    "series1 = pd.Series(dict_data1)\n",
    "series2 = pd.Series(dict_data2)\n",
    "print(series1)\n",
    "print(\"\\n\")\n",
    "print(series2)\n",
    "print(\"\\n\")\n",
    "\n",
    "add = series1 + series2 \n",
    "sub = series1 - series2\n",
    "multi = series1 * series2\n",
    "divi = series1 / series2\n",
    "\n",
    "result = pd.DataFrame([add, sub, multi, divi]) #pd.DataFrame([시리즈1, 시리즈2,...])\n",
    "#시리즈를 모아 데이터 프레임을 만드는 경우 반드시 시리즈간 index는 같아야한다. \n",
    "#index가 열의 위치로 가고 각 시리즈는 한개의 행을 구성한다.\n",
    "print(result)\n"
   ]
  },
  {
   "cell_type": "code",
   "execution_count": 3,
   "id": "b84e177f",
   "metadata": {},
   "outputs": [
    {
     "name": "stdout",
     "output_type": "stream",
     "text": [
      "a    100\n",
      "b     70\n",
      "c     50\n",
      "dtype: int64\n",
      "\n",
      "\n",
      "a    80\n",
      "b    10\n",
      "dtype: int64\n",
      "\n",
      "\n",
      "         a      b       c\n",
      "0   180.00   80.0     NaN\n",
      "1    20.00   60.0     0.0\n",
      "2  8000.00  700.0  2500.0\n",
      "3     1.25    7.0     1.0\n"
     ]
    }
   ],
   "source": [
    "#인덱스에 해당하는 값이 없을때, fill_value를 사용하여 산술연산을 수행한다.\n",
    "import pandas as pd\n",
    "\n",
    "dict_data1 = {'a' : 100, 'b' : 70, 'c' : 50 }\n",
    "dict_data2 = {'a' : 80, 'b' : 10}\n",
    "series1 = pd.Series(dict_data1)\n",
    "series2 = pd.Series(dict_data2)\n",
    "\n",
    "print(series1)\n",
    "print(\"\\n\")\n",
    "print(series2)\n",
    "print(\"\\n\")\n",
    "\n",
    "#값이 없을때 (시리즈 간의 크기가 다를 때) 시리즈 간의 연산은 fill_value를 사용한다.\n",
    "#시리즈 간의 크기가 다르고 fill_value 인자를 사용하지 않아도 연산은 가능하다. (NaN)으로 뜰 뿐\n",
    "add = series1.add(series2, fill_value = 50) #series1 + series2 와 같은 결과, 다만 이건 fill_value인자 추가 가능\n",
    "sub = series1.sub(series2, fill_value = 50)\n",
    "multi = series1.mul(series2, fill_value = 50)\n",
    "divi = series1.div(series2, fill_value = 50)\n",
    "\n",
    "result = pd.DataFrame([add,sub,multi,divi])\n",
    "print(result)\n"
   ]
  },
  {
   "cell_type": "code",
   "execution_count": 7,
   "id": "f5f7f410",
   "metadata": {
    "scrolled": false
   },
   "outputs": [
    {
     "name": "stdout",
     "output_type": "stream",
     "text": [
      "a    100\n",
      "b     70\n",
      "c     50\n",
      "dtype: int64\n",
      "\n",
      "\n",
      "b    80\n",
      "c    10\n",
      "d    40\n",
      "dtype: int64\n",
      "\n",
      "\n",
      "a      NaN\n",
      "b    150.0\n",
      "c     60.0\n",
      "d      NaN\n",
      "dtype: float64\n",
      "      a         b      c   d\n",
      "add NaN   150.000   60.0 NaN\n",
      "sub NaN   -10.000   40.0 NaN\n",
      "mul NaN  5600.000  500.0 NaN\n",
      "div NaN     0.875    5.0 NaN\n"
     ]
    }
   ],
   "source": [
    "#두 시리즈의 원소의 개수가 다르거나, 인덱스가 서로 맞지 않는 경우에도 연산은 가능함 \n",
    "#인덱스가 맞지 않는 경우 NaN을 반환한다. \n",
    "dict_data1 = {'a' : 100, 'b' : 70, 'c' : 50 }\n",
    "dict_data2 = {'b' : 80, 'c' : 10, 'd' : 40 }\n",
    "series1 = pd.Series(dict_data1)\n",
    "series2 = pd.Series(dict_data2)\n",
    "\n",
    "print(series1)\n",
    "print(\"\\n\")\n",
    "print(series2)\n",
    "print(\"\\n\")\n",
    "\n",
    "add = series1.add(series2)\n",
    "print(add) #정수형 인덱스는 다르더라도 인덱스 이름이 같다면 연산을 수행함.\n",
    "sub = series1.sub(series2)\n",
    "multi = series1.mul(series2)\n",
    "divi = series1.div(series2)\n",
    "\n",
    "result = pd.DataFrame([add,sub,multi,divi], index = ['add', 'sub', 'mul', 'div'])\n",
    "print(result)"
   ]
  },
  {
   "cell_type": "markdown",
   "id": "7c36d748",
   "metadata": {},
   "source": [
    "## 데이터프레임 연산\n",
    "- 데이터프레임 vs 숫자\n",
    "- df.head()\n",
    "- seaborn.load_dataset('데이터이름') :: 해당 데이터프레임을 불러온다.\n",
    "- df.loc[: , [col1, col2,..]]\n"
   ]
  },
  {
   "cell_type": "code",
   "execution_count": 8,
   "id": "ba1c11e0",
   "metadata": {
    "scrolled": false
   },
   "outputs": [
    {
     "name": "stdout",
     "output_type": "stream",
     "text": [
      "   sepal_length  sepal_width  petal_length  petal_width species\n",
      "0           5.1          3.5           1.4          0.2  setosa\n",
      "1           4.9          3.0           1.4          0.2  setosa\n",
      "2           4.7          3.2           1.3          0.2  setosa\n",
      "3           4.6          3.1           1.5          0.2  setosa\n",
      "4           5.0          3.6           1.4          0.2  setosa\n",
      "\n",
      "\n",
      "   sepal_length  sepal_width\n",
      "0           5.1          3.5\n",
      "1           4.9          3.0\n",
      "2           4.7          3.2\n",
      "3           4.6          3.1\n",
      "4           5.0          3.6\n",
      "\n",
      "\n",
      "   sepal_length  sepal_width\n",
      "0           6.1          4.5\n",
      "1           5.9          4.0\n",
      "2           5.7          4.2\n",
      "3           5.6          4.1\n",
      "4           6.0          4.6\n"
     ]
    }
   ],
   "source": [
    "import pandas as pd\n",
    "import seaborn as sns\n",
    "\n",
    "iris = sns.load_dataset('iris') #seaborn에서 'iris' 데이터 프레임을 iris에 할당한다.\n",
    "print(iris.head()) #iris 데이터프레임의 상위 5개를 보여준다. \n",
    "print(\"\\n\")\n",
    "\n",
    "df = iris.loc[: , ['sepal_length', 'sepal_width']]\n",
    "#df.loc[]이 기본 set이며 df.loc[행,열]이다. 그래서 df.loc['name1']이라면 행만 선택이 되는 것 \n",
    "#이때 행(열)을 (,)로 복수 선택하고 싶다면, []리스트 구조로 해야한다.\n",
    "print(df.head())\n",
    "print(\"\\n\")\n",
    "\n",
    "df = df + 1 # 데이터프레임 vs 숫자 : 각 원소에 접근한다.\n",
    "print(df.head())"
   ]
  },
  {
   "cell_type": "markdown",
   "id": "20ada80d",
   "metadata": {},
   "source": [
    "- 데이터프레임 vs 데이터프레임"
   ]
  },
  {
   "cell_type": "code",
   "execution_count": 9,
   "id": "64285b48",
   "metadata": {
    "scrolled": true
   },
   "outputs": [
    {
     "name": "stdout",
     "output_type": "stream",
     "text": [
      "   sepal_length  sepal_width  petal_length  petal_width species\n",
      "0           5.1          3.5           1.4          0.2  setosa\n",
      "1           4.9          3.0           1.4          0.2  setosa\n",
      "2           4.7          3.2           1.3          0.2  setosa\n",
      "3           4.6          3.1           1.5          0.2  setosa\n",
      "4           5.0          3.6           1.4          0.2  setosa\n",
      "\n",
      "\n",
      "   sepal_length  sepal_width\n",
      "0           5.1          3.5\n",
      "1           4.9          3.0\n",
      "2           4.7          3.2\n",
      "3           4.6          3.1\n",
      "4           5.0          3.6\n",
      "\n",
      "\n",
      "   sepal_length  sepal_width\n",
      "0           6.1          4.5\n",
      "1           5.9          4.0\n",
      "2           5.7          4.2\n",
      "3           5.6          4.1\n",
      "4           6.0          4.6\n",
      "   sepal_length  sepal_width\n",
      "0           1.0          1.0\n",
      "1           1.0          1.0\n",
      "2           1.0          1.0\n",
      "3           1.0          1.0\n",
      "4           1.0          1.0\n"
     ]
    }
   ],
   "source": [
    "import pandas as pd\n",
    "import seaborn as sns\n",
    "\n",
    "iris = sns.load_dataset('iris') \n",
    "print(iris.head())\n",
    "print(\"\\n\")\n",
    "\n",
    "df = iris.loc[: , ['sepal_length', 'sepal_width']]\n",
    "print(df.head())\n",
    "print(\"\\n\")\n",
    "\n",
    "addition = df + 1\n",
    "print(addition.head())\n",
    "\n",
    "sub = addition - df\n",
    "print(sub.head())"
   ]
  },
  {
   "cell_type": "code",
   "execution_count": 11,
   "id": "29b2a56d",
   "metadata": {},
   "outputs": [
    {
     "name": "stdout",
     "output_type": "stream",
     "text": [
      "   sepal_length  sepal_width  petal_length  petal_width species\n",
      "0           5.1          3.5           1.4          0.2  setosa\n",
      "1           4.9          3.0           1.4          0.2  setosa\n",
      "2           4.7          3.2           1.3          0.2  setosa\n",
      "3           4.6          3.1           1.5          0.2  setosa\n",
      "4           5.0          3.6           1.4          0.2  setosa\n",
      "\n",
      "\n",
      "   sepal_length  sepal_width\n",
      "0           5.1          3.5\n",
      "1           4.9          3.0\n",
      "2           4.7          3.2\n",
      "3           4.6          3.1\n",
      "4           5.0          3.6\n",
      "\n",
      "\n",
      "   sepal_width  petal_length\n",
      "0          3.5           1.4\n",
      "1          3.0           1.4\n",
      "2          3.2           1.3\n",
      "3          3.1           1.5\n",
      "4          3.6           1.4\n",
      "\n",
      "\n",
      "   petal_length  sepal_length  sepal_width\n",
      "0           NaN           NaN          7.0\n",
      "1           NaN           NaN          6.0\n",
      "2           NaN           NaN          6.4\n",
      "3           NaN           NaN          6.2\n",
      "4           NaN           NaN          7.2\n"
     ]
    }
   ],
   "source": [
    "#데이터 프레임의 행과 열이 같지 않더라도 연산은 가능하다.\n",
    "#행과 열이 다르면 NaN\n",
    "import pandas as pd\n",
    "import seaborn as sns\n",
    "\n",
    "iris = sns.load_dataset('iris')\n",
    "print(iris.head())\n",
    "print(\"\\n\")\n",
    "\n",
    "# sepal_length  sepal_width  petal_length  petal_width \n",
    "df1 = iris.loc[:,['sepal_length','sepal_width']]\n",
    "print(df1.head())\n",
    "print(\"\\n\")\n",
    "\n",
    "df2 = iris.loc[:,['sepal_width', 'petal_length']]\n",
    "print(df2.head())\n",
    "print(\"\\n\")\n",
    "\n",
    "add = df1 + df2\n",
    "print(add.head())\n"
   ]
  }
 ],
 "metadata": {
  "kernelspec": {
   "display_name": "Python 3 (ipykernel)",
   "language": "python",
   "name": "python3"
  },
  "language_info": {
   "codemirror_mode": {
    "name": "ipython",
    "version": 3
   },
   "file_extension": ".py",
   "mimetype": "text/x-python",
   "name": "python",
   "nbconvert_exporter": "python",
   "pygments_lexer": "ipython3",
   "version": "3.9.12"
  }
 },
 "nbformat": 4,
 "nbformat_minor": 5
}
