{
 "cells": [
  {
   "cell_type": "markdown",
   "id": "e4bf1457",
   "metadata": {},
   "source": [
    "# 판다스 연산\n",
    "## 시리즈 연산"
   ]
  },
  {
   "cell_type": "markdown",
   "id": "4343c340",
   "metadata": {},
   "source": [
    "- 시리즈 vs 숫자 : 시리즈의 모든 원소에 개별적 접근"
   ]
  },
  {
   "cell_type": "code",
   "execution_count": 1,
   "id": "e0774d97",
   "metadata": {
    "scrolled": true
   },
   "outputs": [
    {
     "name": "stdout",
     "output_type": "stream",
     "text": [
      "a    100\n",
      "b     70\n",
      "c     50\n",
      "dtype: int64\n",
      "\n",
      "\n",
      "a    101\n",
      "b     71\n",
      "c     51\n",
      "dtype: int64\n",
      "\n",
      "\n",
      "a    1.0\n",
      "b    0.7\n",
      "c    0.5\n",
      "dtype: float64\n",
      "\n",
      "\n"
     ]
    }
   ],
   "source": [
    "import pandas as pd\n",
    "dict_data = {'a' : 100, 'b' : 70, 'c' : 50}\n",
    "series = pd.Series(dict_data)\n",
    "print(series)\n",
    "print(\"\\n\")\n",
    "\n",
    "add_series = series + 1 #모든 원소에 접근\n",
    "print(add_series)\n",
    "print(\"\\n\")\n",
    "\n",
    "percent_series = series / 100\n",
    "print(percent_series)\n",
    "print(\"\\n\")\n"
   ]
  },
  {
   "cell_type": "code",
   "execution_count": 1,
   "id": "cdaffcf0",
   "metadata": {},
   "outputs": [
    {
     "name": "stdout",
     "output_type": "stream",
     "text": [
      "a    100\n",
      "b     70\n",
      "c     50\n",
      "dtype: int64\n",
      "\n",
      "\n",
      "a    80\n",
      "b    10\n",
      "c    40\n",
      "dtype: int64\n",
      "\n",
      "\n",
      "         a      b        c\n",
      "0   180.00   80.0    90.00\n",
      "1    20.00   60.0    10.00\n",
      "2  8000.00  700.0  2000.00\n",
      "3     1.25    7.0     1.25\n"
     ]
    }
   ],
   "source": [
    "#시리즈 vs 시리즈 : 크기가 맞아야하고 같은 위치끼리의 연산\n",
    "import pandas as pd\n",
    "dict_data1 = {'a' : 100, 'b' : 70, 'c' : 50 }\n",
    "dict_data2 = {'a' : 80, 'b' : 10, 'c' : 40}\n",
    "series1 = pd.Series(dict_data1)\n",
    "series2 = pd.Series(dict_data2)\n",
    "print(series1)\n",
    "print(\"\\n\")\n",
    "print(series2)\n",
    "print(\"\\n\")\n",
    "\n",
    "add = series1 + series2 \n",
    "sub = series1 - series2\n",
    "multi = series1 * series2\n",
    "divi = series1 / series2\n",
    "\n",
    "result = pd.DataFrame([add, sub, multi, divi]) #pd.DataFrame([시리즈1, 시리즈2,...])\n",
    "#시리즈끼리 index는 반드시 같아야하고, index가 열의 위치로 가고 각 시리즈는 한개의 행을 구성한다.\n",
    "print(result)\n"
   ]
  },
  {
   "cell_type": "code",
   "execution_count": null,
   "id": "b84e177f",
   "metadata": {},
   "outputs": [],
   "source": []
  }
 ],
 "metadata": {
  "kernelspec": {
   "display_name": "Python 3 (ipykernel)",
   "language": "python",
   "name": "python3"
  },
  "language_info": {
   "codemirror_mode": {
    "name": "ipython",
    "version": 3
   },
   "file_extension": ".py",
   "mimetype": "text/x-python",
   "name": "python",
   "nbconvert_exporter": "python",
   "pygments_lexer": "ipython3",
   "version": "3.9.12"
  }
 },
 "nbformat": 4,
 "nbformat_minor": 5
}
