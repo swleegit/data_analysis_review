{
 "cells": [
  {
   "cell_type": "markdown",
   "id": "ca6910e6",
   "metadata": {},
   "source": [
    "### 핵심내용\n",
    "\n",
    "- 파이썬을 사용하면 쉽고 빠르게 데이터 분석을 할 수 있음 \n",
    "    - 다양한 라이브러리 제공 (numpy, pandas, matplotlib, scikit-learn)\n",
    "\n",
    "- ipython과 주피터노트북을 활용하여 interactive하게 코딩과 분석을 수행함.\n",
    "     - 탐색적이고 반복적인 코딩을 하기에 편리하다.\n",
    "\n",
    "- 단순하고 강력한 파이썬 내장 자료구조 : 튜플, 집합, 리스트, 딕셔너리\n"
   ]
  },
  {
   "cell_type": "markdown",
   "id": "7a65d673",
   "metadata": {},
   "source": [
    "### 튜플 보충"
   ]
  },
  {
   "cell_type": "code",
   "execution_count": 1,
   "id": "51939ad7",
   "metadata": {},
   "outputs": [
    {
     "data": {
      "text/plain": [
       "5"
      ]
     },
     "execution_count": 1,
     "metadata": {},
     "output_type": "execute_result"
    }
   ],
   "source": [
    "# 이중 튜플\n",
    "nested_tup = ((1,2,3),(4,5))\n",
    "nested_tup[1][1]"
   ]
  },
  {
   "cell_type": "code",
   "execution_count": 2,
   "id": "d35657ea",
   "metadata": {},
   "outputs": [
    {
     "data": {
      "text/plain": [
       "('s', 't', 'r', 'i', 'n', 'g')"
      ]
     },
     "execution_count": 2,
     "metadata": {},
     "output_type": "execute_result"
    }
   ],
   "source": [
    "#문자열을 튜플로\n",
    "string_tup = tuple('string')\n",
    "string_tup"
   ]
  },
  {
   "cell_type": "code",
   "execution_count": 3,
   "id": "5f3642e5",
   "metadata": {},
   "outputs": [
    {
     "data": {
      "text/plain": [
       "4"
      ]
     },
     "execution_count": 3,
     "metadata": {},
     "output_type": "execute_result"
    }
   ],
   "source": [
    "#튜플 원소 카운트\n",
    "tup  = (1,2,3,3,4,5,5,5,5)\n",
    "tup.count(5)"
   ]
  },
  {
   "cell_type": "markdown",
   "id": "976c1c98",
   "metadata": {},
   "source": [
    "### 리스트 보충"
   ]
  },
  {
   "cell_type": "code",
   "execution_count": 4,
   "id": "cfa80236",
   "metadata": {},
   "outputs": [
    {
     "data": {
      "text/plain": [
       "True"
      ]
     },
     "execution_count": 4,
     "metadata": {},
     "output_type": "execute_result"
    }
   ],
   "source": [
    "# 원소 in 리스트  :: 리스트안에 원소가 있나요 ? 있으면 True를 반환한다.\n",
    "a_list = ['철수', '영희', '민수']\n",
    "'철수' in a_list"
   ]
  },
  {
   "cell_type": "code",
   "execution_count": 5,
   "id": "2e6dea4d",
   "metadata": {},
   "outputs": [
    {
     "data": {
      "text/plain": [
       "[6, 5, 4, 3, 2, 1]"
      ]
     },
     "execution_count": 5,
     "metadata": {},
     "output_type": "execute_result"
    }
   ],
   "source": [
    "#리스트 내림차순 정렬 방법 2가지\n",
    "#첫번째\n",
    "nums = [2,1,3,4,6,5]\n",
    "nums.sort() #오름차순정렬\n",
    "nums.reverse() #nums의 순서를 뒤바꾼다.\n",
    "nums"
   ]
  },
  {
   "cell_type": "code",
   "execution_count": 6,
   "id": "69187da7",
   "metadata": {},
   "outputs": [
    {
     "data": {
      "text/plain": [
       "[6, 5, 4, 3, 2, 1]"
      ]
     },
     "execution_count": 6,
     "metadata": {},
     "output_type": "execute_result"
    }
   ],
   "source": [
    "#두번째 : reverse = True를 인자로 사용\n",
    "nums = [2,1,3,4,6,5]\n",
    "nums.sort(reverse = True)\n",
    "nums"
   ]
  },
  {
   "cell_type": "code",
   "execution_count": 7,
   "id": "ab7582b1",
   "metadata": {},
   "outputs": [
    {
     "data": {
      "text/plain": [
       "['see', 'Him', 'six', 'book', 'foxes', 'Small']"
      ]
     },
     "execution_count": 7,
     "metadata": {},
     "output_type": "execute_result"
    }
   ],
   "source": [
    "#글자수를 기준으로 정렬 :: key = len 을 인자로 사용함.\n",
    "word_list = ['see', 'Him', 'book', 'six', 'foxes', 'Small']\n",
    "word_list.sort(key = len)\n",
    "word_list"
   ]
  },
  {
   "cell_type": "code",
   "execution_count": 9,
   "id": "9820746c",
   "metadata": {},
   "outputs": [
    {
     "data": {
      "text/plain": [
       "[7, 10, 3, 5, 5, 5, 5, 2, 6, 1, 2]"
      ]
     },
     "execution_count": 9,
     "metadata": {},
     "output_type": "execute_result"
    }
   ],
   "source": [
    "#리스트 원소 추가\n",
    "#두가지 코드를 비교해보자.\n",
    "\n",
    "num_list = [7, 10, 3, 1, 2, 6, 1, 2 ] \n",
    "num_list[3:4] = [5,5,5,5]\n",
    "num_list"
   ]
  },
  {
   "cell_type": "code",
   "execution_count": 10,
   "id": "c652925b",
   "metadata": {},
   "outputs": [
    {
     "data": {
      "text/plain": [
       "[7, 10, 3, [5, 5, 5, 5], 2, 6, 1, 2]"
      ]
     },
     "execution_count": 10,
     "metadata": {},
     "output_type": "execute_result"
    }
   ],
   "source": [
    "num_list = [7, 10, 3, 1, 2, 6, 1, 2 ] \n",
    "num_list[3] = [5,5,5,5]\n",
    "num_list"
   ]
  },
  {
   "cell_type": "markdown",
   "id": "41f6cb25",
   "metadata": {},
   "source": [
    "### 딕셔너리 보충"
   ]
  },
  {
   "cell_type": "code",
   "execution_count": 11,
   "id": "f5fd0ffa",
   "metadata": {},
   "outputs": [
    {
     "name": "stdout",
     "output_type": "stream",
     "text": [
      "True\n",
      "False\n"
     ]
    }
   ],
   "source": [
    "#value in 딕셔너리 --> 이거 아님!\n",
    "#key in 딕셔너리 --> 이게 맞음!\n",
    "data_dict = {'key1': 'value1', 'key2': 30}\n",
    "print('key1' in data_dict)\n",
    "print(30 in data_dict)\n"
   ]
  },
  {
   "cell_type": "code",
   "execution_count": 14,
   "id": "a0e610ae",
   "metadata": {},
   "outputs": [
    {
     "data": {
      "text/plain": [
       "{'a': 1, 'b': 2, 'c': 3, 'd': 4}"
      ]
     },
     "execution_count": 14,
     "metadata": {},
     "output_type": "execute_result"
    }
   ],
   "source": [
    "#zip을 이용한 딕셔너리 생성\n",
    "map_dict = dict(zip(['a', 'b', 'c', 'd'], [1,2,3,4]))\n",
    "map_dict"
   ]
  }
 ],
 "metadata": {
  "kernelspec": {
   "display_name": "Python 3 (ipykernel)",
   "language": "python",
   "name": "python3"
  },
  "language_info": {
   "codemirror_mode": {
    "name": "ipython",
    "version": 3
   },
   "file_extension": ".py",
   "mimetype": "text/x-python",
   "name": "python",
   "nbconvert_exporter": "python",
   "pygments_lexer": "ipython3",
   "version": "3.9.12"
  }
 },
 "nbformat": 4,
 "nbformat_minor": 5
}
