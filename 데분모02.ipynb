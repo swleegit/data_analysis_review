{
 "cells": [
  {
   "cell_type": "markdown",
   "id": "e6497cfe",
   "metadata": {},
   "source": [
    "## numpy\n",
    "- Numerical python의 약자, 파이썬 산술계산을 위한 패키지.\n",
    "- 효율적인 다차원배열(ndarray; 자료구조 중 하나)를 제공\n",
    "- 전체 데이터 배열에 대해 빠른 계산을 할 수 있다.\n",
    "- 배열을 디스크에 빠르게 읽고 쓸 수 있으며, 효율적으로 가공할 수 있다.\n",
    "- 선형대수, 난수 생성, 푸리에 변환 등 고급 수학 기능도 제공함.\n"
   ]
  },
  {
   "cell_type": "markdown",
   "id": "5acab926",
   "metadata": {},
   "source": [
    "## 왜 numpy를 사용할까?\n",
    "- 데이터는 이미지, 오디오, 텍스트, 숫자 등 다양한 형태로 존재\n",
    "- 컴퓨터가 이해할 수 있도록 데이터를 숫자형식으로 변환해야함.\n",
    "- 모든 데이터는 숫자로 이루어진 **배열**의 형태로 표현됨\n",
    "- 빠르고 효율적인 배열 연산이 필요함. list 자료구조보다 ndarray가 훨씬 빠름"
   ]
  },
  {
   "cell_type": "markdown",
   "id": "29e550a2",
   "metadata": {},
   "source": [
    "- import numpy as np\n",
    "- arange, array, a = [len(x) for x in a], ndim, shape, dtype, zeros, ones, eye\n",
    "- np.array([1,2,3],dtype = np.float64)\n",
    "- 기존있던 다차원 배열.astype(np.float64)"
   ]
  },
  {
   "cell_type": "markdown",
   "id": "43880b6f",
   "metadata": {},
   "source": [
    "## numpy vs list"
   ]
  },
  {
   "cell_type": "code",
   "execution_count": 1,
   "id": "e3564d11",
   "metadata": {},
   "outputs": [],
   "source": [
    "#numpy vs list\n",
    "import numpy as np\n",
    "np_array = np.arange(1000000) #np.arange(시작, 끝, 단계) 다차원 배열을 만듬.\n",
    "python_list = list(np_array)"
   ]
  },
  {
   "cell_type": "code",
   "execution_count": 3,
   "id": "6b170572",
   "metadata": {},
   "outputs": [
    {
     "name": "stdout",
     "output_type": "stream",
     "text": [
      "CPU times: total: 15.6 ms\n",
      "Wall time: 21.9 ms\n"
     ]
    }
   ],
   "source": [
    "%%time\n",
    "for i in range(10):\n",
    "    np_array = np_array * 2\n",
    "    #np_array 자체를 바꿀꺼면 자기자신에 할당하는 식으로 변수를 선언하자.\n",
    "    #다차원배열은 간단한 연산으로 각 원소에 연산가능함\n",
    "    #for구문에서 i 를 반드시 사용할 필요없다. 단순히 어떤 코드를 몇번 반복하고 싶을 때 사용 가능\n",
    "    #돌고 돌때 변수에 할당된 값은 리셋되는 것이 아니다. 이전것의 중첩"
   ]
  },
  {
   "cell_type": "code",
   "execution_count": 4,
   "id": "419dcd2f",
   "metadata": {},
   "outputs": [
    {
     "name": "stdout",
     "output_type": "stream",
     "text": [
      "CPU times: total: 1.31 s\n",
      "Wall time: 1.32 s\n"
     ]
    }
   ],
   "source": [
    "%%time\n",
    "for i in range(10):\n",
    "    python_list = [ x * 2 for x in python_list]\n",
    "    #이 구문은 암기하자. 리스트의 각원소에 연산(기능)을 하고 싶은 경우 \n",
    "    #a = [len(x) for x in a]"
   ]
  },
  {
   "cell_type": "markdown",
   "id": "01db824c",
   "metadata": {},
   "source": [
    "## ndarray 생성\n",
    "- numpy의 다차원 배열의 자료구조는 ndarray\n",
    "- np.array(리스트)를 통해 리스트 자료구조를 다차원배열로 변환가능\n",
    "- np.arange(시작,끝,단계)"
   ]
  },
  {
   "cell_type": "code",
   "execution_count": 7,
   "id": "7d6bff4a",
   "metadata": {},
   "outputs": [
    {
     "name": "stdout",
     "output_type": "stream",
     "text": [
      "[ 1  3  5  6  9 10]\n",
      "<class 'numpy.ndarray'>\n"
     ]
    }
   ],
   "source": [
    "data1 = [1,3,5,6,9,10]\n",
    "array1 = np.array(data1) #다차원 배열의 변수이름은 보통 array~ 식으로 진행 \n",
    "print(array1)\n",
    "print(type(array1))"
   ]
  },
  {
   "cell_type": "code",
   "execution_count": 17,
   "id": "ae7ffc01",
   "metadata": {
    "scrolled": true
   },
   "outputs": [
    {
     "name": "stdout",
     "output_type": "stream",
     "text": [
      "[[ 1.   2.   3.   4. ]\n",
      " [ 5.   6.   7.   8. ]\n",
      " [ 9.  10.  11.  12.5]]\n"
     ]
    }
   ],
   "source": [
    "data2 = [[1,2,3,4],\n",
    "         [5,6,7,8],\n",
    "         [9,10,11,12.5]] #리스트로 행렬구조만드는 방법\n",
    "array2 = np.array(data2)\n",
    "print(array2)"
   ]
  },
  {
   "cell_type": "code",
   "execution_count": 10,
   "id": "8662ba33",
   "metadata": {},
   "outputs": [
    {
     "data": {
      "text/plain": [
       "2"
      ]
     },
     "execution_count": 10,
     "metadata": {},
     "output_type": "execute_result"
    }
   ],
   "source": [
    "array2.ndim #다차원배열의 차원을 반환 "
   ]
  },
  {
   "cell_type": "code",
   "execution_count": 11,
   "id": "669288fd",
   "metadata": {},
   "outputs": [
    {
     "data": {
      "text/plain": [
       "(3, 4)"
      ]
     },
     "execution_count": 11,
     "metadata": {},
     "output_type": "execute_result"
    }
   ],
   "source": [
    "array2.shape #다차원 배열의 모양"
   ]
  },
  {
   "cell_type": "code",
   "execution_count": 18,
   "id": "4e322830",
   "metadata": {},
   "outputs": [
    {
     "data": {
      "text/plain": [
       "dtype('float64')"
      ]
     },
     "execution_count": 18,
     "metadata": {},
     "output_type": "execute_result"
    }
   ],
   "source": [
    "array2.dtype #원소가 int, float로 구성되어있으면 float반환\n",
    "             #나오는 데이터타입이 모든원소를 대변하지 않는다."
   ]
  },
  {
   "cell_type": "code",
   "execution_count": 19,
   "id": "ae089de9",
   "metadata": {},
   "outputs": [
    {
     "data": {
      "text/plain": [
       "array([0., 0., 0., 0., 0., 0., 0., 0., 0., 0.])"
      ]
     },
     "execution_count": 19,
     "metadata": {},
     "output_type": "execute_result"
    }
   ],
   "source": [
    "np.zeros(10) "
   ]
  },
  {
   "cell_type": "code",
   "execution_count": 20,
   "id": "52be32fb",
   "metadata": {},
   "outputs": [
    {
     "data": {
      "text/plain": [
       "array([[0., 0., 0., 0., 0.],\n",
       "       [0., 0., 0., 0., 0.],\n",
       "       [0., 0., 0., 0., 0.],\n",
       "       [0., 0., 0., 0., 0.]])"
      ]
     },
     "execution_count": 20,
     "metadata": {},
     "output_type": "execute_result"
    }
   ],
   "source": [
    "np.zeros((4,5)) #인자로 튜플형식의 shape를 받는다."
   ]
  },
  {
   "cell_type": "code",
   "execution_count": 21,
   "id": "5a7655ce",
   "metadata": {},
   "outputs": [
    {
     "data": {
      "text/plain": [
       "array([[1., 1., 1., 1., 1.],\n",
       "       [1., 1., 1., 1., 1.],\n",
       "       [1., 1., 1., 1., 1.],\n",
       "       [1., 1., 1., 1., 1.]])"
      ]
     },
     "execution_count": 21,
     "metadata": {},
     "output_type": "execute_result"
    }
   ],
   "source": [
    "np.ones((4,5))"
   ]
  },
  {
   "cell_type": "code",
   "execution_count": 22,
   "id": "f2867672",
   "metadata": {},
   "outputs": [
    {
     "data": {
      "text/plain": [
       "array([[1., 0., 0., 0., 0.],\n",
       "       [0., 1., 0., 0., 0.],\n",
       "       [0., 0., 1., 0., 0.],\n",
       "       [0., 0., 0., 1., 0.],\n",
       "       [0., 0., 0., 0., 1.]])"
      ]
     },
     "execution_count": 22,
     "metadata": {},
     "output_type": "execute_result"
    }
   ],
   "source": [
    "np.eye(5) # 단위 행렬 5 * 5 "
   ]
  },
  {
   "cell_type": "markdown",
   "id": "0b5f8e5d",
   "metadata": {},
   "source": [
    "- 다차원 배열의 자료형은 정수형, 실수형, 불, 문자열 모두 가능함\n",
    "- 변경할 수 있는 범위에서 변경 가능함."
   ]
  },
  {
   "cell_type": "code",
   "execution_count": 25,
   "id": "51a3074e",
   "metadata": {},
   "outputs": [
    {
     "data": {
      "text/plain": [
       "array([1., 2., 3.])"
      ]
     },
     "execution_count": 25,
     "metadata": {},
     "output_type": "execute_result"
    }
   ],
   "source": [
    "#생성하면서 변경\n",
    "array1 = np.array([1,2,3], dtype = np.float64) #그냥 float가 아니라 np.float64\n",
    "array1"
   ]
  },
  {
   "cell_type": "code",
   "execution_count": 26,
   "id": "ac33ff18",
   "metadata": {},
   "outputs": [
    {
     "name": "stdout",
     "output_type": "stream",
     "text": [
      "[1.1 2.3 5.6]\n",
      "[1 2 5]\n"
     ]
    }
   ],
   "source": [
    "#이미 형성된 배열의 자료형을 변경 \n",
    "float_array = np.array([1.1,2.3,5.6])\n",
    "print(float_array)\n",
    "int_array = float_array.astype(np.int32) #floor 내림 적용, 다차원배열.astype(뭐로바꿀지)\n",
    "print(int_array)"
   ]
  },
  {
   "cell_type": "code",
   "execution_count": 27,
   "id": "8d41b160",
   "metadata": {},
   "outputs": [
    {
     "name": "stdout",
     "output_type": "stream",
     "text": [
      "[1.1 2.3 5.6]\n"
     ]
    }
   ],
   "source": [
    "float_array = np.array(['1.1','2.3','5.6'])\n",
    "string_array = float_array.astype(np.float64)\n",
    "print(string_array)\n"
   ]
  }
 ],
 "metadata": {
  "kernelspec": {
   "display_name": "Python 3 (ipykernel)",
   "language": "python",
   "name": "python3"
  },
  "language_info": {
   "codemirror_mode": {
    "name": "ipython",
    "version": 3
   },
   "file_extension": ".py",
   "mimetype": "text/x-python",
   "name": "python",
   "nbconvert_exporter": "python",
   "pygments_lexer": "ipython3",
   "version": "3.9.12"
  }
 },
 "nbformat": 4,
 "nbformat_minor": 5
}
