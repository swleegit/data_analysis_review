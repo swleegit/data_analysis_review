{
 "cells": [
  {
   "cell_type": "markdown",
   "id": "e6497cfe",
   "metadata": {},
   "source": [
    "## numpy\n",
    "- Numerical python의 약자, 파이썬 산술계산을 위한 패키지.\n",
    "- 효율적인 다차원배열(ndarray; 자료구조 중 하나)를 제공\n",
    "- 전체 데이터 배열에 대해 빠른 계산을 할 수 있다.\n",
    "- 배열을 디스크에 빠르게 읽고 쓸 수 있으며, 효율적으로 가공할 수 있다.\n",
    "- 선형대수, 난수 생성, 푸리에 변환 등 고급 수학 기능도 제공함.\n"
   ]
  },
  {
   "cell_type": "markdown",
   "id": "5acab926",
   "metadata": {},
   "source": [
    "## 왜 numpy를 사용할까?\n",
    "- 데이터는 이미지, 오디오, 텍스트, 숫자 등 다양한 형태로 존재\n",
    "- 컴퓨터가 이해할 수 있도록 데이터를 숫자형식으로 변환해야함.\n",
    "- 모든 데이터는 숫자로 이루어진 **배열**의 형태로 표현됨\n",
    "- 빠르고 효율적인 배열 연산이 필요함. list 자료구조보다 ndarray가 훨씬 빠름"
   ]
  },
  {
   "cell_type": "markdown",
   "id": "43880b6f",
   "metadata": {},
   "source": [
    "## numpy vs list\n",
    "- import numpy as np\n",
    "- arange, array, a = [len(x) for x in a], ndim, shape, dtype, zeros, ones, eye\n",
    "- np.array([1,2,3],dtype = np.float64)\n",
    "- 기존있던 다차원 배열.astype(np.float64)"
   ]
  },
  {
   "cell_type": "code",
   "execution_count": 1,
   "id": "e3564d11",
   "metadata": {},
   "outputs": [],
   "source": [
    "#numpy vs list\n",
    "import numpy as np\n",
    "np_array = np.arange(1000000) #np.arange(시작, 끝, 단계) 다차원 배열을 만듬.\n",
    "python_list = list(np_array)"
   ]
  },
  {
   "cell_type": "code",
   "execution_count": 3,
   "id": "6b170572",
   "metadata": {},
   "outputs": [
    {
     "name": "stdout",
     "output_type": "stream",
     "text": [
      "CPU times: total: 15.6 ms\n",
      "Wall time: 21.9 ms\n"
     ]
    }
   ],
   "source": [
    "%%time\n",
    "for i in range(10):\n",
    "    np_array = np_array * 2\n",
    "    #np_array 자체를 바꿀꺼면 자기자신에 할당하는 식으로 변수를 선언하자.\n",
    "    #다차원배열은 간단한 연산으로 각 원소에 연산가능함\n",
    "    #for구문에서 i 를 반드시 사용할 필요없다. 단순히 어떤 코드를 몇번 반복하고 싶을 때 사용 가능\n",
    "    #돌고 돌때 변수에 할당된 값은 리셋되는 것이 아니다. 이전것의 중첩"
   ]
  },
  {
   "cell_type": "code",
   "execution_count": 4,
   "id": "419dcd2f",
   "metadata": {},
   "outputs": [
    {
     "name": "stdout",
     "output_type": "stream",
     "text": [
      "CPU times: total: 1.31 s\n",
      "Wall time: 1.32 s\n"
     ]
    }
   ],
   "source": [
    "%%time\n",
    "for i in range(10):\n",
    "    python_list = [ x * 2 for x in python_list]\n",
    "    #이 구문은 암기하자. 리스트의 각원소에 연산(기능)을 하고 싶은 경우 \n",
    "    #a = [len(x) for x in a]"
   ]
  },
  {
   "cell_type": "markdown",
   "id": "01db824c",
   "metadata": {},
   "source": [
    "## ndarray 생성\n",
    "- numpy의 다차원 배열의 자료구조는 ndarray\n",
    "- np.array(리스트)를 통해 리스트 자료구조를 다차원배열로 변환가능\n",
    "- np.arange(시작,끝,단계)"
   ]
  },
  {
   "cell_type": "code",
   "execution_count": 7,
   "id": "7d6bff4a",
   "metadata": {},
   "outputs": [
    {
     "name": "stdout",
     "output_type": "stream",
     "text": [
      "[ 1  3  5  6  9 10]\n",
      "<class 'numpy.ndarray'>\n"
     ]
    }
   ],
   "source": [
    "data1 = [1,3,5,6,9,10]\n",
    "array1 = np.array(data1) #다차원 배열의 변수이름은 보통 array~ 식으로 진행 \n",
    "print(array1)\n",
    "print(type(array1))"
   ]
  },
  {
   "cell_type": "code",
   "execution_count": 17,
   "id": "ae7ffc01",
   "metadata": {
    "scrolled": true
   },
   "outputs": [
    {
     "name": "stdout",
     "output_type": "stream",
     "text": [
      "[[ 1.   2.   3.   4. ]\n",
      " [ 5.   6.   7.   8. ]\n",
      " [ 9.  10.  11.  12.5]]\n"
     ]
    }
   ],
   "source": [
    "data2 = [[1,2,3,4],\n",
    "         [5,6,7,8],\n",
    "         [9,10,11,12.5]] #리스트로 행렬구조만드는 방법\n",
    "array2 = np.array(data2)\n",
    "print(array2)"
   ]
  },
  {
   "cell_type": "code",
   "execution_count": 10,
   "id": "8662ba33",
   "metadata": {},
   "outputs": [
    {
     "data": {
      "text/plain": [
       "2"
      ]
     },
     "execution_count": 10,
     "metadata": {},
     "output_type": "execute_result"
    }
   ],
   "source": [
    "array2.ndim #다차원배열의 차원을 반환 "
   ]
  },
  {
   "cell_type": "code",
   "execution_count": 11,
   "id": "669288fd",
   "metadata": {},
   "outputs": [
    {
     "data": {
      "text/plain": [
       "(3, 4)"
      ]
     },
     "execution_count": 11,
     "metadata": {},
     "output_type": "execute_result"
    }
   ],
   "source": [
    "array2.shape #다차원 배열의 모양"
   ]
  },
  {
   "cell_type": "code",
   "execution_count": 18,
   "id": "4e322830",
   "metadata": {},
   "outputs": [
    {
     "data": {
      "text/plain": [
       "dtype('float64')"
      ]
     },
     "execution_count": 18,
     "metadata": {},
     "output_type": "execute_result"
    }
   ],
   "source": [
    "array2.dtype #원소가 int, float로 구성되어있으면 float반환\n",
    "             #나오는 데이터타입이 모든원소를 대변하지 않는다."
   ]
  },
  {
   "cell_type": "code",
   "execution_count": 19,
   "id": "ae089de9",
   "metadata": {},
   "outputs": [
    {
     "data": {
      "text/plain": [
       "array([0., 0., 0., 0., 0., 0., 0., 0., 0., 0.])"
      ]
     },
     "execution_count": 19,
     "metadata": {},
     "output_type": "execute_result"
    }
   ],
   "source": [
    "np.zeros(10) "
   ]
  },
  {
   "cell_type": "code",
   "execution_count": 20,
   "id": "52be32fb",
   "metadata": {},
   "outputs": [
    {
     "data": {
      "text/plain": [
       "array([[0., 0., 0., 0., 0.],\n",
       "       [0., 0., 0., 0., 0.],\n",
       "       [0., 0., 0., 0., 0.],\n",
       "       [0., 0., 0., 0., 0.]])"
      ]
     },
     "execution_count": 20,
     "metadata": {},
     "output_type": "execute_result"
    }
   ],
   "source": [
    "np.zeros((4,5)) #인자로 튜플형식의 shape를 받는다."
   ]
  },
  {
   "cell_type": "code",
   "execution_count": 21,
   "id": "5a7655ce",
   "metadata": {},
   "outputs": [
    {
     "data": {
      "text/plain": [
       "array([[1., 1., 1., 1., 1.],\n",
       "       [1., 1., 1., 1., 1.],\n",
       "       [1., 1., 1., 1., 1.],\n",
       "       [1., 1., 1., 1., 1.]])"
      ]
     },
     "execution_count": 21,
     "metadata": {},
     "output_type": "execute_result"
    }
   ],
   "source": [
    "np.ones((4,5))"
   ]
  },
  {
   "cell_type": "code",
   "execution_count": 22,
   "id": "f2867672",
   "metadata": {},
   "outputs": [
    {
     "data": {
      "text/plain": [
       "array([[1., 0., 0., 0., 0.],\n",
       "       [0., 1., 0., 0., 0.],\n",
       "       [0., 0., 1., 0., 0.],\n",
       "       [0., 0., 0., 1., 0.],\n",
       "       [0., 0., 0., 0., 1.]])"
      ]
     },
     "execution_count": 22,
     "metadata": {},
     "output_type": "execute_result"
    }
   ],
   "source": [
    "np.eye(5) # 단위 행렬 5 * 5 "
   ]
  },
  {
   "cell_type": "markdown",
   "id": "0b5f8e5d",
   "metadata": {},
   "source": [
    "- 다차원 배열의 자료형은 정수형, 실수형, 불, 문자열 모두 가능함\n",
    "- 변경할 수 있는 범위에서 변경 가능함."
   ]
  },
  {
   "cell_type": "code",
   "execution_count": 25,
   "id": "51a3074e",
   "metadata": {},
   "outputs": [
    {
     "data": {
      "text/plain": [
       "array([1., 2., 3.])"
      ]
     },
     "execution_count": 25,
     "metadata": {},
     "output_type": "execute_result"
    }
   ],
   "source": [
    "#생성하면서 변경\n",
    "array1 = np.array([1,2,3], dtype = np.float64) #그냥 float가 아니라 np.float64\n",
    "array1"
   ]
  },
  {
   "cell_type": "code",
   "execution_count": 26,
   "id": "ac33ff18",
   "metadata": {},
   "outputs": [
    {
     "name": "stdout",
     "output_type": "stream",
     "text": [
      "[1.1 2.3 5.6]\n",
      "[1 2 5]\n"
     ]
    }
   ],
   "source": [
    "#이미 형성된 배열의 자료형을 변경 \n",
    "float_array = np.array([1.1,2.3,5.6])\n",
    "print(float_array)\n",
    "int_array = float_array.astype(np.int32) #floor 내림 적용, 다차원배열.astype(뭐로바꿀지)\n",
    "print(int_array)"
   ]
  },
  {
   "cell_type": "code",
   "execution_count": 27,
   "id": "8d41b160",
   "metadata": {},
   "outputs": [
    {
     "name": "stdout",
     "output_type": "stream",
     "text": [
      "[1.1 2.3 5.6]\n"
     ]
    }
   ],
   "source": [
    "float_array = np.array(['1.1','2.3','5.6'])\n",
    "string_array = float_array.astype(np.float64)\n",
    "print(string_array)\n"
   ]
  },
  {
   "cell_type": "markdown",
   "id": "ccd2b2ee",
   "metadata": {},
   "source": [
    "----------------------------------  \n",
    "----------------------------------  \n",
    "----------------------------------"
   ]
  },
  {
   "cell_type": "markdown",
   "id": "ddefed2a",
   "metadata": {},
   "source": [
    "## numpy 조작하기 : 연산, 색인 및 슬라이스"
   ]
  },
  {
   "cell_type": "markdown",
   "id": "f320fd65",
   "metadata": {},
   "source": [
    "## array 연산"
   ]
  },
  {
   "cell_type": "code",
   "execution_count": 2,
   "id": "b74364cf",
   "metadata": {},
   "outputs": [
    {
     "data": {
      "text/plain": [
       "array([[1, 2, 3],\n",
       "       [4, 5, 6]])"
      ]
     },
     "execution_count": 2,
     "metadata": {},
     "output_type": "execute_result"
    }
   ],
   "source": [
    "import numpy as np\n",
    "array = np.array([[1,2,3],\n",
    "                  [4,5,6]])\n",
    "array"
   ]
  },
  {
   "cell_type": "code",
   "execution_count": 3,
   "id": "15af77d6",
   "metadata": {},
   "outputs": [
    {
     "data": {
      "text/plain": [
       "array([[ 1,  4,  9],\n",
       "       [16, 25, 36]])"
      ]
     },
     "execution_count": 3,
     "metadata": {},
     "output_type": "execute_result"
    }
   ],
   "source": [
    "array * array # 리스트는 개별원소에 접근하기 위해 for 반복문(a = [len(x) for x in a])를 사용하지만\n",
    "              # 다차원배열은 간단하게 개별원소 계산할 수 있음."
   ]
  },
  {
   "cell_type": "code",
   "execution_count": 4,
   "id": "d2831d54",
   "metadata": {},
   "outputs": [
    {
     "data": {
      "text/plain": [
       "array([[ 2,  4,  6],\n",
       "       [ 8, 10, 12]])"
      ]
     },
     "execution_count": 4,
     "metadata": {},
     "output_type": "execute_result"
    }
   ],
   "source": [
    "array + array"
   ]
  },
  {
   "cell_type": "code",
   "execution_count": 5,
   "id": "33ada6da",
   "metadata": {},
   "outputs": [
    {
     "data": {
      "text/plain": [
       "array([[0, 0, 0],\n",
       "       [0, 0, 0]])"
      ]
     },
     "execution_count": 5,
     "metadata": {},
     "output_type": "execute_result"
    }
   ],
   "source": [
    "array - array"
   ]
  },
  {
   "cell_type": "code",
   "execution_count": 6,
   "id": "eaa7ed9c",
   "metadata": {},
   "outputs": [
    {
     "data": {
      "text/plain": [
       "array([[11, 12, 13],\n",
       "       [14, 15, 16]])"
      ]
     },
     "execution_count": 6,
     "metadata": {},
     "output_type": "execute_result"
    }
   ],
   "source": [
    "array + 10"
   ]
  },
  {
   "cell_type": "code",
   "execution_count": 7,
   "id": "8510ca8b",
   "metadata": {},
   "outputs": [
    {
     "data": {
      "text/plain": [
       "array([[0.33333333, 0.66666667, 1.        ],\n",
       "       [1.33333333, 1.66666667, 2.        ]])"
      ]
     },
     "execution_count": 7,
     "metadata": {},
     "output_type": "execute_result"
    }
   ],
   "source": [
    "array / 3"
   ]
  },
  {
   "cell_type": "code",
   "execution_count": 8,
   "id": "ad1f3692",
   "metadata": {},
   "outputs": [
    {
     "data": {
      "text/plain": [
       "array([[  1,   8,  27],\n",
       "       [ 64, 125, 216]], dtype=int32)"
      ]
     },
     "execution_count": 8,
     "metadata": {},
     "output_type": "execute_result"
    }
   ],
   "source": [
    "array ** 3"
   ]
  },
  {
   "cell_type": "code",
   "execution_count": 10,
   "id": "5c2859ac",
   "metadata": {},
   "outputs": [
    {
     "name": "stdout",
     "output_type": "stream",
     "text": [
      "[[1 2 3]\n",
      " [4 5 6]]\n",
      "\n",
      "\n",
      "[1, 2, 3]\n"
     ]
    }
   ],
   "source": [
    "#크기가 다른 배열간의 연산 \n",
    "print(array)\n",
    "array2 = ([1,2,3])\n",
    "print(\"\\n\")\n",
    "print(array2)"
   ]
  },
  {
   "cell_type": "code",
   "execution_count": 11,
   "id": "456a6ff4",
   "metadata": {},
   "outputs": [
    {
     "data": {
      "text/plain": [
       "array([[2, 4, 6],\n",
       "       [5, 7, 9]])"
      ]
     },
     "execution_count": 11,
     "metadata": {},
     "output_type": "execute_result"
    }
   ],
   "source": [
    "array + array2"
   ]
  },
  {
   "cell_type": "code",
   "execution_count": 12,
   "id": "9ac65be9",
   "metadata": {},
   "outputs": [
    {
     "data": {
      "text/plain": [
       "array([[ 1,  4,  9],\n",
       "       [ 4, 10, 18]])"
      ]
     },
     "execution_count": 12,
     "metadata": {},
     "output_type": "execute_result"
    }
   ],
   "source": [
    "array * array2"
   ]
  },
  {
   "cell_type": "markdown",
   "id": "7148e1b5",
   "metadata": {},
   "source": [
    "## 색인 및 슬라이스\n",
    "- 중복 (슬라이스), 한개의 원소 선택, 연결됨\n",
    "- np.arange(num).reshape(num1,num2..) :: num1 * num2.. = num\n",
    "- array.transpose(1,0,2)\n",
    "- array.T"
   ]
  },
  {
   "cell_type": "code",
   "execution_count": 13,
   "id": "5cb8c0e0",
   "metadata": {},
   "outputs": [
    {
     "name": "stdout",
     "output_type": "stream",
     "text": [
      "[0 1 2 3 4 5 6 7 8 9]\n"
     ]
    }
   ],
   "source": [
    "array = np.arange(10)\n",
    "print(array)"
   ]
  },
  {
   "cell_type": "code",
   "execution_count": 16,
   "id": "2acdc86e",
   "metadata": {},
   "outputs": [
    {
     "name": "stdout",
     "output_type": "stream",
     "text": [
      "[ 0  1  2 10 10 10 10 10  8  9]\n"
     ]
    }
   ],
   "source": [
    "#array[2:3] = [5,5,5,5,5] #리스트와 달리 다차원배열은 원소로 리스트, 딕셔너리 안됨 \n",
    "                         #자료형은 정수, 실수, 문자, 불만 가능하다.\n",
    "    \n",
    "array[3:8] = 10\n",
    "print(array)"
   ]
  },
  {
   "cell_type": "code",
   "execution_count": 17,
   "id": "6028deb6",
   "metadata": {},
   "outputs": [
    {
     "name": "stdout",
     "output_type": "stream",
     "text": [
      "[  0   1   2  10 100  10  10  10   8   9]\n"
     ]
    }
   ],
   "source": [
    "array_slice = array[3:8]\n",
    "array_slice[1] = 100 #기존 다차원배열을 슬라이스에서 할당한 새로운 다차원배열이고\n",
    "print(array) #기존 다차원배열과 연결되어 있음. "
   ]
  },
  {
   "cell_type": "code",
   "execution_count": 18,
   "id": "038b6d70",
   "metadata": {},
   "outputs": [
    {
     "name": "stdout",
     "output_type": "stream",
     "text": [
      "[200 200 200 200 200]\n",
      "[  0   1   2 200 200 200 200 200   8   9]\n"
     ]
    }
   ],
   "source": [
    "array_slice[:] = 200\n",
    "print(array_slice)\n",
    "print(array)"
   ]
  },
  {
   "cell_type": "code",
   "execution_count": 19,
   "id": "232c501d",
   "metadata": {},
   "outputs": [
    {
     "data": {
      "text/plain": [
       "array([[[ 0,  1,  2,  3],\n",
       "        [ 4,  5,  6,  7],\n",
       "        [ 8,  9, 10, 11],\n",
       "        [12, 13, 14, 15]],\n",
       "\n",
       "       [[16, 17, 18, 19],\n",
       "        [20, 21, 22, 23],\n",
       "        [24, 25, 26, 27],\n",
       "        [28, 29, 30, 31]],\n",
       "\n",
       "       [[32, 33, 34, 35],\n",
       "        [36, 37, 38, 39],\n",
       "        [40, 41, 42, 43],\n",
       "        [44, 45, 46, 47]]])"
      ]
     },
     "execution_count": 19,
     "metadata": {},
     "output_type": "execute_result"
    }
   ],
   "source": [
    "#n차원 배열에서 각 원소에 접근하는 방법.\n",
    "array = np.arange(48).reshape(3,4,4)\n",
    "array"
   ]
  },
  {
   "cell_type": "code",
   "execution_count": 20,
   "id": "8ea820df",
   "metadata": {},
   "outputs": [
    {
     "data": {
      "text/plain": [
       "20"
      ]
     },
     "execution_count": 20,
     "metadata": {},
     "output_type": "execute_result"
    }
   ],
   "source": [
    "#20에 접근 \n",
    "array[1,1,0]"
   ]
  },
  {
   "cell_type": "code",
   "execution_count": 21,
   "id": "302668b4",
   "metadata": {
    "scrolled": true
   },
   "outputs": [
    {
     "data": {
      "text/plain": [
       "array([[[20, 21],\n",
       "        [24, 25],\n",
       "        [28, 29]],\n",
       "\n",
       "       [[36, 37],\n",
       "        [40, 41],\n",
       "        [44, 45]]])"
      ]
     },
     "execution_count": 21,
     "metadata": {},
     "output_type": "execute_result"
    }
   ],
   "source": [
    "#3차원 아래서 두개, 2,3,4행, 1,2열 \n",
    "array[1:,1:,0:2] #슬라이스: 복수 선택하고 싶은 경우 그 범위를 지정한다."
   ]
  },
  {
   "cell_type": "code",
   "execution_count": 23,
   "id": "adefa8ac",
   "metadata": {},
   "outputs": [
    {
     "data": {
      "text/plain": [
       "array([[ 0,  1,  2,  3],\n",
       "       [ 4,  5,  6,  7],\n",
       "       [ 8,  9, 10, 11],\n",
       "       [12, 13, 14, 15],\n",
       "       [16, 17, 18, 19],\n",
       "       [20, 21, 22, 23],\n",
       "       [24, 25, 26, 27],\n",
       "       [28, 29, 30, 31]])"
      ]
     },
     "execution_count": 23,
     "metadata": {},
     "output_type": "execute_result"
    }
   ],
   "source": [
    "#전치\n",
    "#2차원 배열이하인 경우 T로 해결가능함 \n",
    "array = np.arange(32).reshape(8,4)\n",
    "array"
   ]
  },
  {
   "cell_type": "code",
   "execution_count": 24,
   "id": "63b4a7d3",
   "metadata": {},
   "outputs": [
    {
     "data": {
      "text/plain": [
       "(8, 4)"
      ]
     },
     "execution_count": 24,
     "metadata": {},
     "output_type": "execute_result"
    }
   ],
   "source": [
    "array.shape"
   ]
  },
  {
   "cell_type": "code",
   "execution_count": 25,
   "id": "e13a483f",
   "metadata": {},
   "outputs": [
    {
     "data": {
      "text/plain": [
       "array([[ 0,  4,  8, 12, 16, 20, 24, 28],\n",
       "       [ 1,  5,  9, 13, 17, 21, 25, 29],\n",
       "       [ 2,  6, 10, 14, 18, 22, 26, 30],\n",
       "       [ 3,  7, 11, 15, 19, 23, 27, 31]])"
      ]
     },
     "execution_count": 25,
     "metadata": {},
     "output_type": "execute_result"
    }
   ],
   "source": [
    "array.T "
   ]
  },
  {
   "cell_type": "code",
   "execution_count": 26,
   "id": "63eb3f74",
   "metadata": {},
   "outputs": [
    {
     "data": {
      "text/plain": [
       "(8, 4)"
      ]
     },
     "execution_count": 26,
     "metadata": {},
     "output_type": "execute_result"
    }
   ],
   "source": [
    "array.shape #전치가 기존의 다차원 배열을 바꾸지 않는다. "
   ]
  },
  {
   "cell_type": "code",
   "execution_count": 27,
   "id": "c8437002",
   "metadata": {},
   "outputs": [
    {
     "data": {
      "text/plain": [
       "array([[[ 0,  1,  2,  3],\n",
       "        [ 4,  5,  6,  7],\n",
       "        [ 8,  9, 10, 11],\n",
       "        [12, 13, 14, 15]],\n",
       "\n",
       "       [[16, 17, 18, 19],\n",
       "        [20, 21, 22, 23],\n",
       "        [24, 25, 26, 27],\n",
       "        [28, 29, 30, 31]]])"
      ]
     },
     "execution_count": 27,
     "metadata": {},
     "output_type": "execute_result"
    }
   ],
   "source": [
    "#3차원 이상의 다차원 배열에서 전치는 T가 아니라 transpose함수를 사용한다.\n",
    "#매개변수로는 axis\n",
    "array = np.arange(32).reshape(2,4,4)\n",
    "array"
   ]
  },
  {
   "cell_type": "code",
   "execution_count": 28,
   "id": "060db8d5",
   "metadata": {},
   "outputs": [
    {
     "data": {
      "text/plain": [
       "array([[[ 0,  1,  2,  3],\n",
       "        [16, 17, 18, 19]],\n",
       "\n",
       "       [[ 4,  5,  6,  7],\n",
       "        [20, 21, 22, 23]],\n",
       "\n",
       "       [[ 8,  9, 10, 11],\n",
       "        [24, 25, 26, 27]],\n",
       "\n",
       "       [[12, 13, 14, 15],\n",
       "        [28, 29, 30, 31]]])"
      ]
     },
     "execution_count": 28,
     "metadata": {},
     "output_type": "execute_result"
    }
   ],
   "source": [
    "transpose_array = array.transpose(1,0,2)\n",
    "#axis = 1 (행) : 2\n",
    "#axis = 0 (전체) : 4\n",
    "#axis = 2 (열) : 4\n",
    "transpose_array"
   ]
  },
  {
   "cell_type": "markdown",
   "id": "66a8f8a9",
   "metadata": {},
   "source": [
    "--------------------  \n",
    "-------------------  \n",
    "-------------------"
   ]
  },
  {
   "cell_type": "markdown",
   "id": "7e785430",
   "metadata": {},
   "source": [
    "## numpy연산 메소드"
   ]
  },
  {
   "cell_type": "markdown",
   "id": "f7fb4074",
   "metadata": {},
   "source": [
    "## 유니버셜 메소드\n",
    "\n",
    "- 유니버셜 메소드 활용 : 하나 이상의 ndarray를 인자로 받아서 연산을 수행하는 메소드\n",
    "- (인자 한개) : np.square, sqrt, log10, ceil, round \n",
    "- (인자 두개) : np.add, subtract, multiply, divide, maximum, minimum, power\n"
   ]
  },
  {
   "cell_type": "code",
   "execution_count": 1,
   "id": "6df69b6a",
   "metadata": {},
   "outputs": [
    {
     "data": {
      "text/plain": [
       "array([10, 11, 12, 13, 14, 15, 16, 17, 18, 19])"
      ]
     },
     "execution_count": 1,
     "metadata": {},
     "output_type": "execute_result"
    }
   ],
   "source": [
    "#10,11,12,...19\n",
    "import numpy as np\n",
    "array = np.arange(10,20)\n",
    "array"
   ]
  },
  {
   "cell_type": "code",
   "execution_count": 3,
   "id": "6fe1533c",
   "metadata": {},
   "outputs": [
    {
     "data": {
      "text/plain": [
       "array([10., 11., 12., 13., 14., 15., 16., 17., 18., 19.])"
      ]
     },
     "execution_count": 3,
     "metadata": {},
     "output_type": "execute_result"
    }
   ],
   "source": [
    "array = array.astype(np.float64) #기존의 다차원 배열을 바꾸지 못한다.\n",
    "array"
   ]
  },
  {
   "cell_type": "code",
   "execution_count": 4,
   "id": "13065ec3",
   "metadata": {},
   "outputs": [
    {
     "data": {
      "text/plain": [
       "array([100., 121., 144., 169., 196., 225., 256., 289., 324., 361.])"
      ]
     },
     "execution_count": 4,
     "metadata": {},
     "output_type": "execute_result"
    }
   ],
   "source": [
    "np.square(array)"
   ]
  },
  {
   "cell_type": "code",
   "execution_count": 5,
   "id": "5474be40",
   "metadata": {},
   "outputs": [],
   "source": [
    "#2개 이상의 다차원 배열을 인자로 받아서 연산을 수행하는 메소드 \n",
    "array1 = np.array([1,20,21,22,3,4,5,6])\n",
    "array2 = np.array([2,40,50,1,2,3,4,5])"
   ]
  },
  {
   "cell_type": "code",
   "execution_count": 8,
   "id": "e2798ee1",
   "metadata": {},
   "outputs": [
    {
     "data": {
      "text/plain": [
       "array([          1,           0, -1115501063,          22,           9,\n",
       "                64,         625,        7776], dtype=int32)"
      ]
     },
     "execution_count": 8,
     "metadata": {},
     "output_type": "execute_result"
    }
   ],
   "source": [
    "np.power(array1, array2) #array1이 밑이고 array2가 지수"
   ]
  },
  {
   "cell_type": "code",
   "execution_count": 9,
   "id": "eea9b426",
   "metadata": {},
   "outputs": [
    {
     "data": {
      "text/plain": [
       "array([ 2, 40, 50, 22,  3,  4,  5,  6])"
      ]
     },
     "execution_count": 9,
     "metadata": {},
     "output_type": "execute_result"
    }
   ],
   "source": [
    "np.maximum(array1,array2) #같은 자리끼리 비교하고 큰놈으로 새롭게 구성한다. "
   ]
  },
  {
   "cell_type": "markdown",
   "id": "0edda053",
   "metadata": {},
   "source": [
    "## numpy 조건절 사용\n",
    "- cond1 = array1 > 0 \n",
    "- new_array = np.where(조건, 참, 거짓)"
   ]
  },
  {
   "cell_type": "code",
   "execution_count": 10,
   "id": "91a82d2c",
   "metadata": {},
   "outputs": [],
   "source": [
    "#numpy 조건절 사용 \n",
    "array1 = np.array([1,-1,-2,3,1,2,-3])\n",
    "array2 = np.array([1,3,2,1,-1,2,-3])"
   ]
  },
  {
   "cell_type": "code",
   "execution_count": 11,
   "id": "cd477159",
   "metadata": {},
   "outputs": [],
   "source": [
    "cond1 = array1 > 0 #불을 만드는 연산자를 다차원배열에 적용하면 각 원소에 적용한다.\n",
    "cond2 = array2 > 0 "
   ]
  },
  {
   "cell_type": "code",
   "execution_count": 12,
   "id": "1d8c32eb",
   "metadata": {},
   "outputs": [
    {
     "name": "stdout",
     "output_type": "stream",
     "text": [
      "[ True False False  True  True  True False]\n",
      "[ True  True  True  True False  True False]\n"
     ]
    }
   ],
   "source": [
    "print(cond1)\n",
    "print(cond2)"
   ]
  },
  {
   "cell_type": "code",
   "execution_count": 14,
   "id": "5e8ae5a9",
   "metadata": {},
   "outputs": [
    {
     "data": {
      "text/plain": [
       "array([-1, -1, -1,  1, -1,  1, -1])"
      ]
     },
     "execution_count": 14,
     "metadata": {},
     "output_type": "execute_result"
    }
   ],
   "source": [
    "new_array = np.where(array1 > 1 , 1, -1) #np.where(조건, 참, 거짓) 조건에 참이면 참에 해당하는 값을 반환\n",
    "new_array"
   ]
  },
  {
   "cell_type": "code",
   "execution_count": 19,
   "id": "5fc9eb36",
   "metadata": {
    "scrolled": true
   },
   "outputs": [
    {
     "data": {
      "text/plain": [
       "array([ 1,  3,  2,  3,  1,  2, -3])"
      ]
     },
     "execution_count": 19,
     "metadata": {},
     "output_type": "execute_result"
    }
   ],
   "source": [
    "new_array = np.where(array1 > 0, array1, array2) #해당자리로 반환함\n",
    "new_array"
   ]
  },
  {
   "cell_type": "markdown",
   "id": "7b70ad40",
   "metadata": {},
   "source": [
    "## numpy 수학 통계 메소드\n",
    "- array.sum, mean, max, min, argmax, argmin(인덱스를 반환함)\n",
    "- 인자로 axis = 0 (열) , axis = 1(행)\n"
   ]
  },
  {
   "cell_type": "code",
   "execution_count": 20,
   "id": "7a202f0c",
   "metadata": {},
   "outputs": [
    {
     "data": {
      "text/plain": [
       "array([[ 0,  1,  2,  3],\n",
       "       [ 4,  5,  6,  7],\n",
       "       [ 8,  9, 10, 11],\n",
       "       [12, 13, 14, 15],\n",
       "       [16, 17, 18, 19],\n",
       "       [20, 21, 22, 23],\n",
       "       [24, 25, 26, 27],\n",
       "       [28, 29, 30, 31]])"
      ]
     },
     "execution_count": 20,
     "metadata": {},
     "output_type": "execute_result"
    }
   ],
   "source": [
    "#수학 통계 메소드\n",
    "array = np.arange(32).reshape(8,4)\n",
    "array"
   ]
  },
  {
   "cell_type": "code",
   "execution_count": 21,
   "id": "68d58dd4",
   "metadata": {},
   "outputs": [
    {
     "data": {
      "text/plain": [
       "496"
      ]
     },
     "execution_count": 21,
     "metadata": {},
     "output_type": "execute_result"
    }
   ],
   "source": [
    "array.sum()"
   ]
  },
  {
   "cell_type": "code",
   "execution_count": 22,
   "id": "0ccf4c07",
   "metadata": {},
   "outputs": [
    {
     "data": {
      "text/plain": [
       "15.5"
      ]
     },
     "execution_count": 22,
     "metadata": {},
     "output_type": "execute_result"
    }
   ],
   "source": [
    "array.mean()"
   ]
  },
  {
   "cell_type": "code",
   "execution_count": 25,
   "id": "3f8c0402",
   "metadata": {
    "scrolled": true
   },
   "outputs": [
    {
     "data": {
      "text/plain": [
       "array([112, 120, 128, 136])"
      ]
     },
     "execution_count": 25,
     "metadata": {},
     "output_type": "execute_result"
    }
   ],
   "source": [
    "array.sum(axis = 0)  #헷갈리지 말기 axis = 0 이면 '열'임, axis = 1 '행'"
   ]
  },
  {
   "cell_type": "markdown",
   "id": "d73104ac",
   "metadata": {},
   "source": [
    "## numpy 정렬\n",
    "- array.sort(), reverse_array = array[::-1], array.sort(axis = 0) :: 행을 기준으로 정렬\n",
    "- np.random.randn(4,5)"
   ]
  },
  {
   "cell_type": "code",
   "execution_count": 26,
   "id": "c17298da",
   "metadata": {},
   "outputs": [
    {
     "data": {
      "text/plain": [
       "array([ 0.48113128,  0.94930514, -1.42522126, -0.82174943, -0.76841113,\n",
       "       -1.5293413 ,  0.38092319,  1.34088564, -1.17078848, -0.8915712 ])"
      ]
     },
     "execution_count": 26,
     "metadata": {},
     "output_type": "execute_result"
    }
   ],
   "source": [
    "#오름차순, 내림차순 정렬 \n",
    "array = np.random.randn(10)\n",
    "array"
   ]
  },
  {
   "cell_type": "code",
   "execution_count": 27,
   "id": "f86d875a",
   "metadata": {},
   "outputs": [],
   "source": [
    "array.sort() #기존것을 변경 "
   ]
  },
  {
   "cell_type": "code",
   "execution_count": 28,
   "id": "42b73ce6",
   "metadata": {},
   "outputs": [
    {
     "data": {
      "text/plain": [
       "array([-1.5293413 , -1.42522126, -1.17078848, -0.8915712 , -0.82174943,\n",
       "       -0.76841113,  0.38092319,  0.48113128,  0.94930514,  1.34088564])"
      ]
     },
     "execution_count": 28,
     "metadata": {},
     "output_type": "execute_result"
    }
   ],
   "source": [
    "array"
   ]
  },
  {
   "cell_type": "code",
   "execution_count": 29,
   "id": "62a6421d",
   "metadata": {},
   "outputs": [],
   "source": [
    "#내림차순으로 정렬하기 위해 새롭게 할당해야함\n",
    "reverse_array = array[::-1]"
   ]
  },
  {
   "cell_type": "code",
   "execution_count": 30,
   "id": "de8a009e",
   "metadata": {},
   "outputs": [
    {
     "data": {
      "text/plain": [
       "array([ 1.34088564,  0.94930514,  0.48113128,  0.38092319, -0.76841113,\n",
       "       -0.82174943, -0.8915712 , -1.17078848, -1.42522126, -1.5293413 ])"
      ]
     },
     "execution_count": 30,
     "metadata": {},
     "output_type": "execute_result"
    }
   ],
   "source": [
    "reverse_array"
   ]
  },
  {
   "cell_type": "code",
   "execution_count": 31,
   "id": "115b68a5",
   "metadata": {},
   "outputs": [],
   "source": [
    "array = np.random.randn(5,3)"
   ]
  },
  {
   "cell_type": "code",
   "execution_count": 32,
   "id": "b85f80ed",
   "metadata": {},
   "outputs": [
    {
     "data": {
      "text/plain": [
       "array([[ 0.30750813, -0.52811221,  0.76196227],\n",
       "       [-0.17602485,  0.77288896, -0.89409177],\n",
       "       [-0.03613238, -1.00604718, -0.55029794],\n",
       "       [-0.1687964 ,  0.92152954,  0.21780396],\n",
       "       [ 1.742069  ,  0.76183698,  0.32973375]])"
      ]
     },
     "execution_count": 32,
     "metadata": {},
     "output_type": "execute_result"
    }
   ],
   "source": [
    "array"
   ]
  },
  {
   "cell_type": "code",
   "execution_count": 34,
   "id": "a3f2736a",
   "metadata": {},
   "outputs": [
    {
     "data": {
      "text/plain": [
       "array([[-0.17602485, -1.00604718, -0.89409177],\n",
       "       [-0.1687964 , -0.52811221, -0.55029794],\n",
       "       [-0.03613238,  0.76183698,  0.21780396],\n",
       "       [ 0.30750813,  0.77288896,  0.32973375],\n",
       "       [ 1.742069  ,  0.92152954,  0.76196227]])"
      ]
     },
     "execution_count": 34,
     "metadata": {},
     "output_type": "execute_result"
    }
   ],
   "source": [
    "#행을 기준으로 정렬(axis = 0)  주의하자. 통계연산 메소드인 sum, mean, max, min, argmax, argmin은 axis = 0 이 열이다\n",
    "array.sort(axis = 0) #행을 기준으로 정렬\n",
    "array"
   ]
  },
  {
   "cell_type": "markdown",
   "id": "77e01b25",
   "metadata": {},
   "source": [
    "## numpy 집합메소드\n",
    "- np.unique(array)\n",
    "- np.in1d(array1,array2)\n"
   ]
  },
  {
   "cell_type": "code",
   "execution_count": 36,
   "id": "77e047a7",
   "metadata": {},
   "outputs": [],
   "source": [
    "array = np.array(['a', 'b', 'c', 'a', 'b', 'c', 'e', 'f', 'g', 'c', 'f'])"
   ]
  },
  {
   "cell_type": "code",
   "execution_count": 37,
   "id": "a18177d3",
   "metadata": {},
   "outputs": [
    {
     "data": {
      "text/plain": [
       "array(['a', 'b', 'c', 'e', 'f', 'g'], dtype='<U1')"
      ]
     },
     "execution_count": 37,
     "metadata": {},
     "output_type": "execute_result"
    }
   ],
   "source": [
    "np.unique(array) #np.unique(다차원배열) : 다차원배열의 고유값을 반환한다."
   ]
  },
  {
   "cell_type": "code",
   "execution_count": 38,
   "id": "0831d4c3",
   "metadata": {},
   "outputs": [
    {
     "name": "stdout",
     "output_type": "stream",
     "text": [
      "[0 1 2 3 4 5 6 7 8 9]\n",
      "[ 5  6  7  8  9 10 11 12 13 14]\n"
     ]
    }
   ],
   "source": [
    "array1 = np.arange(10)\n",
    "array2 = np.arange(5,15)\n",
    "print(array1)\n",
    "print(array2)"
   ]
  },
  {
   "cell_type": "code",
   "execution_count": 41,
   "id": "be316aaf",
   "metadata": {},
   "outputs": [
    {
     "data": {
      "text/plain": [
       "array([False, False, False, False, False,  True,  True,  True,  True,\n",
       "        True])"
      ]
     },
     "execution_count": 41,
     "metadata": {},
     "output_type": "execute_result"
    }
   ],
   "source": [
    "np.in1d(array1, array2) #array1의 원소가 array2에 있니? 꼭 같은 위치가 아니어도 좋다."
   ]
  },
  {
   "cell_type": "code",
   "execution_count": 44,
   "id": "b76d8816",
   "metadata": {},
   "outputs": [
    {
     "name": "stdout",
     "output_type": "stream",
     "text": [
      "[[0 1]\n",
      " [2 3]\n",
      " [4 5]\n",
      " [6 7]]\n",
      "[[0 2 4 6]\n",
      " [1 3 5 7]]\n"
     ]
    }
   ],
   "source": [
    "#행렬연산 메소드(내적, 외적)  : 일반수학에서 하는 것보다 확장된 느낌을 가진다.\n",
    "array = np.arange(8).reshape(4,2)\n",
    "array_transpose = array.T\n",
    "print(array)\n",
    "print(array_transpose)"
   ]
  },
  {
   "cell_type": "code",
   "execution_count": 45,
   "id": "e3f4106d",
   "metadata": {},
   "outputs": [
    {
     "data": {
      "text/plain": [
       "array([[ 1,  3,  5,  7],\n",
       "       [ 3, 13, 23, 33],\n",
       "       [ 5, 23, 41, 59],\n",
       "       [ 7, 33, 59, 85]])"
      ]
     },
     "execution_count": 45,
     "metadata": {},
     "output_type": "execute_result"
    }
   ],
   "source": [
    "np.dot(array, array_transpose)"
   ]
  },
  {
   "cell_type": "code",
   "execution_count": null,
   "id": "659daf63",
   "metadata": {},
   "outputs": [],
   "source": []
  }
 ],
 "metadata": {
  "kernelspec": {
   "display_name": "Python 3 (ipykernel)",
   "language": "python",
   "name": "python3"
  },
  "language_info": {
   "codemirror_mode": {
    "name": "ipython",
    "version": 3
   },
   "file_extension": ".py",
   "mimetype": "text/x-python",
   "name": "python",
   "nbconvert_exporter": "python",
   "pygments_lexer": "ipython3",
   "version": "3.9.12"
  }
 },
 "nbformat": 4,
 "nbformat_minor": 5
}
